{
  "cells": [
    {
      "cell_type": "code",
      "source": [
        "!git clone https://github.com/riteshsv/timeseries.git"
      ],
      "metadata": {
        "id": "EQuty_6tRcOc",
        "outputId": "96dead7d-733c-42cc-af3a-ac4e8eb0a1ba",
        "colab": {
          "base_uri": "https://localhost:8080/"
        }
      },
      "id": "EQuty_6tRcOc",
      "execution_count": 1,
      "outputs": [
        {
          "output_type": "stream",
          "name": "stdout",
          "text": [
            "Cloning into 'timeseries'...\n",
            "remote: Enumerating objects: 30, done.\u001b[K\n",
            "remote: Counting objects: 100% (30/30), done.\u001b[K\n",
            "remote: Compressing objects: 100% (28/28), done.\u001b[K\n",
            "remote: Total 30 (delta 14), reused 0 (delta 0), pack-reused 0\u001b[K\n",
            "Unpacking objects: 100% (30/30), done.\n"
          ]
        }
      ]
    },
    {
      "cell_type": "code",
      "execution_count": 2,
      "id": "755fecfc-c576-4eec-9323-d69736d5bc9b",
      "metadata": {
        "id": "755fecfc-c576-4eec-9323-d69736d5bc9b"
      },
      "outputs": [],
      "source": [
        "import numpy as np\n",
        "import os"
      ]
    },
    {
      "cell_type": "code",
      "execution_count": 3,
      "id": "f2d8d6f9-5f82-489d-a153-455a514e4ba2",
      "metadata": {
        "id": "f2d8d6f9-5f82-489d-a153-455a514e4ba2"
      },
      "outputs": [],
      "source": [
        "import pandas as pd"
      ]
    },
    {
      "cell_type": "code",
      "execution_count": 4,
      "id": "4005c140-8a13-4ff8-8872-220f5081fc77",
      "metadata": {
        "id": "4005c140-8a13-4ff8-8872-220f5081fc77"
      },
      "outputs": [],
      "source": [
        "import torch\n",
        "from torch import nn     \n",
        "import torch.nn.functional as F\n",
        "import torch.optim as optim\n",
        "from torch.utils.data import Dataset,DataLoader"
      ]
    },
    {
      "cell_type": "code",
      "execution_count": 5,
      "id": "6b62c6ca-fdbb-491d-8898-ab87ffe88541",
      "metadata": {
        "id": "6b62c6ca-fdbb-491d-8898-ab87ffe88541"
      },
      "outputs": [],
      "source": [
        "from sklearn.preprocessing import MinMaxScaler"
      ]
    },
    {
      "cell_type": "code",
      "execution_count": 6,
      "id": "74f07969-2fbd-43a5-b212-7f5fad592cbd",
      "metadata": {
        "id": "74f07969-2fbd-43a5-b212-7f5fad592cbd"
      },
      "outputs": [],
      "source": [
        "def preparedata_time_window(input_data,window):\n",
        "    out_data = []\n",
        "    # rearrange the input in form of output based on 3 observations in past\n",
        "    for i in range(len(input_data)):\n",
        "        if (i+window+1) <= len(input_data):\n",
        "            out_data.append((input_data[i:i+window],input_data[i+window:i+(window+1)]))\n",
        "            \n",
        "    return out_data"
      ]
    },
    {
      "cell_type": "code",
      "execution_count": 7,
      "id": "d1019051-4e51-4467-be8d-6866d8cc00fc",
      "metadata": {
        "id": "d1019051-4e51-4467-be8d-6866d8cc00fc"
      },
      "outputs": [],
      "source": [
        "class StandardizeInput():\n",
        "  def __init__(self):\n",
        "    self.scaler = MinMaxScaler(feature_range=(-1,1)) \n",
        "  def __call__(self,data):\n",
        "    return self.scaler.fit_transform(data)\n",
        "\n",
        "# scaler2 = MinMaxScaler(feature_range=(-1,1))\n",
        "# scaled_input2 = scaler2.fit_transform(data.reshape(-1,1))\n"
      ]
    },
    {
      "cell_type": "code",
      "source": [
        "class UnivariateTsDataset(Dataset):\n",
        "    \"\"\"Univariate time serices dataset.\"\"\"\n",
        "\n",
        "    def __init__(self, csv_file, target:str=None, transform=None, window=1,features:list=None,n_features=1,scaler=None):\n",
        "        \"\"\"\n",
        "        Args:\n",
        "            csv_file (string): Path to the csv file with annotations.\n",
        "            transform (callable, optional): Optional transform to be applied\n",
        "                on a sample.\n",
        "            window (integer): Number of time steps in the past\n",
        "            features (list) : list of features to be used, default is all features\n",
        "            n_features (integer) : number of features to be used. default is 1, min number of features required\n",
        "        \"\"\"\n",
        "        self.transform = transform\n",
        "        self.target = target\n",
        "        self.window = window\n",
        "        self.features = features\n",
        "        self.scaler=scaler\n",
        "        if len(self.features) > 0:\n",
        "          self.n_features = len(self.features)\n",
        "        else:\n",
        "          self.n_features = n_features\n",
        "        self.rawdata = pd.read_csv(csv_file)\n",
        "        self.data = self.preprocess(self.rawdata)\n",
        "        \n",
        "    \n",
        "    def preprocess(self,input_df):\n",
        "      if self.features != None:\n",
        "        input_data = input_df[self.features]\n",
        "      else:\n",
        "        input_data = input_df\n",
        "      # scaling\n",
        "      if self.scaler != None:\n",
        "        input_data = self.scaler(input_data)\n",
        "      # convert to tensors\n",
        "      input_data_tensor = torch.tensor(input_data,dtype=torch.float32,device=device).view(-1)\n",
        "      out_data = []\n",
        "      # rearrange the input in form of output based on 3 observations in past\n",
        "      for i in range(len(input_data_tensor)):\n",
        "        if (i+self.window+1) <= len(input_data_tensor):\n",
        "          out_data.append((input_data_tensor[i:i+self.window],input_data_tensor[i+self.window:i+(self.window+1)]))\n",
        "            \n",
        "      return out_data\n",
        "    \n",
        "    def train_val_test_split(self,train_size=0.8,test_size=.20,val_size=0.0):\n",
        "      train_len = int(train_size*len(self.data))\n",
        "      train_set = torch.utils.data.Subset(self,np.arange(train_len))\n",
        "      val_len = int(len(self.data)*val_size)\n",
        "      if val_size > 0:\n",
        "        val_set = torch.utils.data.Subset(self,np.arange(train_len,(train_len+val_len)))\n",
        "      test_set = torch.utils.data.Subset(self,np.arange((train_len+val_len),len(self.data)))\n",
        "      if val_size > 0:\n",
        "        return train_set,val_set,test_set\n",
        "      return train_set,test_set\n",
        "\n",
        "    def __len__(self):\n",
        "        return len(self.data)\n",
        "\n",
        "    def __getitem__(self, idx):\n",
        "        if torch.is_tensor(idx):\n",
        "            idx = idx.tolist()\n",
        "\n",
        "        sample = self.data[idx]\n",
        "\n",
        "        return sample"
      ],
      "metadata": {
        "id": "GOEB_I37dfCC"
      },
      "id": "GOEB_I37dfCC",
      "execution_count": 8,
      "outputs": []
    },
    {
      "cell_type": "code",
      "execution_count": 9,
      "id": "d3c1ae80-0e25-4477-871d-0dd3a80c6f97",
      "metadata": {
        "id": "d3c1ae80-0e25-4477-871d-0dd3a80c6f97"
      },
      "outputs": [],
      "source": [
        "class LSTMSimple(nn.Module):\n",
        "    def __init__(self, input_dim,hidden_dim,out_size,num_layers=1,batch_size=1,device=None):\n",
        "        super(LSTMSimple,self).__init__()\n",
        "        self.batch_size = batch_size\n",
        "        self.lstm = nn.LSTM(input_dim, hidden_dim,num_layers=num_layers)\n",
        "        self.out = nn.Linear(hidden_dim,out_size)\n",
        "        self.hidden_dim = hidden_dim\n",
        "        self.n_layers = num_layers\n",
        "        if device == None:\n",
        "          if torch.cuda.is_available():\n",
        "            self.device = torch.device('cuda')\n",
        "          else:\n",
        "            self.device = torch.device('cpu')\n",
        "        else:\n",
        "          self.device = device\n",
        "        self.hidden = (torch.zeros(1*self.n_layers,self.batch_size,self.hidden_dim,device=self.device),torch.zeros(1*self.n_layers,self.batch_size,self.hidden_dim,device=self.device))\n",
        "    def forward(self,x):\n",
        "      self.hidden = (torch.zeros(1*self.n_layers,self.batch_size,self.hidden_dim,device=self.device),torch.zeros(1*self.n_layers,self.batch_size,self.hidden_dim,device=self.device))\n",
        "      out,self.hidden = self.lstm(x.view(len(x[1]),self.batch_size,-1),self.hidden)\n",
        "      preds = self.out(out[-1])\n",
        "      return preds\n",
        "    def predict(self,n_preds,past_val,batch_size=1):\n",
        "      out = []\n",
        "      with torch.no_grad():\n",
        "        input_ten = torch.tensor(past_val,dtype=torch.float32,device=self.device)\n",
        "        self.eval()\n",
        "        for p in range(n_preds):\n",
        "          input_ten = input_ten[-len(past_val):].view(-1,len(past_val))\n",
        "          self.hidden = (torch.zeros(1*self.n_layers,batch_size,self.hidden_dim,device=self.device),\n",
        "                         torch.zeros(1*self.n_layers,batch_size,self.hidden_dim,device=self.device))\n",
        "          preds = model(input_ten)\n",
        "          input_ten = torch.cat((input_ten.view(-1),preds),0)\n",
        "          out.append(preds)\n",
        "      return out\n",
        "    # def predict(n_preds,input_ten):\n",
        "    #   out = []\n",
        "    #   with torch.no_grad():\n",
        "    #     for p in range(n_preds):\n",
        "    #       input_ten = input_ten[-6:].view(-1,6)\n",
        "    #       # model.hidden = (torch.zeros(2,1,64,device=device),torch.zeros(2,1,50,device=device))\n",
        "    #       preds = model(input_ten)\n",
        "    #       input_ten = torch.cat((input_ten.view(-1),preds),0)\n",
        "    #       actual_pred = dataset.scaler.scaler.inverse_transform(np.array(preds.view(-1).cpu()).reshape(-1,1))\n",
        "    #       out.append(actual_pred)\n",
        "    #   print(actual_pred)\n",
        "    #   return out"
      ]
    },
    {
      "cell_type": "code",
      "source": [
        "class Trainer():\n",
        "  def __init__(self,model,train_data,loss_fn,optimizer,val_data=None,epochs=1):\n",
        "    self.model = model\n",
        "    self.epochs = epochs\n",
        "    self.train_data = train_data\n",
        "    self.val_data = val_data\n",
        "    self.loss_fn = loss_fn\n",
        "    self.optimizer = optimizer\n",
        "    self.predictions = []\n",
        "  def train(self):\n",
        "    for epoch in range(self.epochs):\n",
        "      self.model.train()\n",
        "      train_loss = 0.0  \n",
        "      for x,t in self.train_data:\n",
        "        self.model.zero_grad()\n",
        "        preds = model(x)\n",
        "        self.predictions.append(preds)\n",
        "        loss = self.loss_fn(preds,t)\n",
        "        loss.backward()\n",
        "        self.optimizer.step()\n",
        "        train_loss += loss.item()\n",
        "      train_loss = train_loss/len(self.train_data)\n",
        "      if self.val_data != None:\n",
        "        val_loss = self.__validation()\n",
        "      if (epoch+1)%10 == 0:\n",
        "        print(f\"Epoch: {epoch+1} loss: {train_loss} validation loss: {val_loss}\")\n",
        "  def __validation(self):\n",
        "    self.model.eval()  \n",
        "    val_loss = 0.0\n",
        "    with torch.no_grad():\n",
        "      for x,t in self.val_data:\n",
        "        preds = self.model(x)\n",
        "        self.predictions.append(preds)\n",
        "        loss = self.loss_fn(preds,t)\n",
        "        val_loss += loss.item()\n",
        "    return val_loss/len(self.val_data)"
      ],
      "metadata": {
        "id": "tpam40OcuPVq"
      },
      "id": "tpam40OcuPVq",
      "execution_count": 10,
      "outputs": []
    },
    {
      "cell_type": "code",
      "source": [
        "if torch.cuda.is_available():\n",
        "    device = torch.device('cuda')\n",
        "else:\n",
        "    device = torch.device('cpu')\n",
        "print(device)\n",
        "print(type(device))"
      ],
      "metadata": {
        "id": "vAbY37XExMlf",
        "colab": {
          "base_uri": "https://localhost:8080/"
        },
        "outputId": "ae227e25-0e46-4db6-ff1f-1add433c37cf"
      },
      "id": "vAbY37XExMlf",
      "execution_count": 11,
      "outputs": [
        {
          "output_type": "stream",
          "name": "stdout",
          "text": [
            "cuda\n",
            "<class 'torch.device'>\n"
          ]
        }
      ]
    },
    {
      "cell_type": "code",
      "source": [
        "m = LSTMSimple(1,20,1,1,5,device=device)\n",
        "m.to(device)"
      ],
      "metadata": {
        "id": "FKmShbKqXWfo",
        "outputId": "4b76523c-a7cc-44d1-ac25-6168170739dd",
        "colab": {
          "base_uri": "https://localhost:8080/"
        }
      },
      "id": "FKmShbKqXWfo",
      "execution_count": 12,
      "outputs": [
        {
          "output_type": "execute_result",
          "data": {
            "text/plain": [
              "LSTMSimple(\n",
              "  (lstm): LSTM(1, 20)\n",
              "  (out): Linear(in_features=20, out_features=1, bias=True)\n",
              ")"
            ]
          },
          "metadata": {},
          "execution_count": 12
        }
      ]
    },
    {
      "cell_type": "code",
      "source": [
        "i = torch.randn(5,5,1,device=device)\n",
        "o = m(i)"
      ],
      "metadata": {
        "id": "LIG0iFRmXo_S"
      },
      "id": "LIG0iFRmXo_S",
      "execution_count": 13,
      "outputs": []
    },
    {
      "cell_type": "code",
      "source": [
        "dataset = UnivariateTsDataset('/content/timeseries/ULTRACEMCO.NS.csv',window=6,features=['Close'],n_features=1,scaler=StandardizeInput())"
      ],
      "metadata": {
        "id": "9TeYXNf2PgXc"
      },
      "id": "9TeYXNf2PgXc",
      "execution_count": 14,
      "outputs": []
    },
    {
      "cell_type": "code",
      "source": [
        "train_set,val_set,test_set = dataset.train_val_test_split(0.60,0.20,0.20)\n"
      ],
      "metadata": {
        "id": "FCMGMzdUSIFq"
      },
      "id": "FCMGMzdUSIFq",
      "execution_count": 15,
      "outputs": []
    },
    {
      "cell_type": "code",
      "source": [
        "batch_size = 4\n",
        "train_loader = torch.utils.data.DataLoader(train_set,batch_size=batch_size,shuffle=False,drop_last=True)\n",
        "val_loader = torch.utils.data.DataLoader(val_set,batch_size=batch_size,shuffle=False,drop_last=True)\n",
        "test_loader = torch.utils.data.DataLoader(test_set,batch_size=batch_size,shuffle=False,drop_last=True)\n"
      ],
      "metadata": {
        "id": "u6do7B1UntrP"
      },
      "id": "u6do7B1UntrP",
      "execution_count": 16,
      "outputs": []
    },
    {
      "cell_type": "code",
      "source": [
        "for x,y in train_loader:\n",
        "  print(x.shape)\n",
        "  break\n",
        "  print(x.view(len(x[1]),4,-1).size(-1))\n",
        "  print(x.view(len(x[1]),4,-1).shape)"
      ],
      "metadata": {
        "id": "i0-cLI-ukP0C",
        "outputId": "cc6addb8-3a04-4cf1-e6f4-b3edf036b89c",
        "colab": {
          "base_uri": "https://localhost:8080/"
        }
      },
      "id": "i0-cLI-ukP0C",
      "execution_count": 41,
      "outputs": [
        {
          "output_type": "stream",
          "name": "stdout",
          "text": [
            "torch.Size([4, 6])\n"
          ]
        }
      ]
    },
    {
      "cell_type": "code",
      "source": [
        "for x,y in train_loader:\n",
        "  print(y.shape)\n",
        "  break"
      ],
      "metadata": {
        "id": "hXPI2eoNG574",
        "outputId": "e6ff18b3-2615-4a35-bc02-148e0174d4fa",
        "colab": {
          "base_uri": "https://localhost:8080/"
        }
      },
      "id": "hXPI2eoNG574",
      "execution_count": 18,
      "outputs": [
        {
          "output_type": "stream",
          "name": "stdout",
          "text": [
            "torch.Size([4, 1])\n"
          ]
        }
      ]
    },
    {
      "cell_type": "code",
      "source": [
        "df = pd.read_csv('/content/timeseries/ULTRACEMCO.NS.csv')\n",
        "# df.columns=['sales']\n"
      ],
      "metadata": {
        "id": "AZImQOB5yuyk"
      },
      "id": "AZImQOB5yuyk",
      "execution_count": 19,
      "outputs": []
    },
    {
      "cell_type": "markdown",
      "source": [],
      "metadata": {
        "id": "8W81zdIFiiXr"
      },
      "id": "8W81zdIFiiXr"
    },
    {
      "cell_type": "code",
      "execution_count": 20,
      "id": "142c5343-8ee7-4b79-bee6-2b0baa2b9a09",
      "metadata": {
        "id": "142c5343-8ee7-4b79-bee6-2b0baa2b9a09",
        "outputId": "77b609cf-c4c1-483c-f35b-574576f6d390",
        "colab": {
          "base_uri": "https://localhost:8080/"
        }
      },
      "outputs": [
        {
          "output_type": "execute_result",
          "data": {
            "text/plain": [
              "LSTMSimple(\n",
              "  (lstm): LSTM(1, 64, num_layers=6)\n",
              "  (out): Linear(in_features=64, out_features=1, bias=True)\n",
              ")"
            ]
          },
          "metadata": {},
          "execution_count": 20
        }
      ],
      "source": [
        "model = LSTMSimple(1,64,1,num_layers=6,batch_size=batch_size,device=device)\n",
        "model.to(device)"
      ]
    },
    {
      "cell_type": "code",
      "execution_count": 21,
      "id": "c3da36b6-7009-4191-bc9c-db00c227987d",
      "metadata": {
        "id": "c3da36b6-7009-4191-bc9c-db00c227987d"
      },
      "outputs": [],
      "source": [
        "loss_fn = nn.MSELoss()\n",
        "optimizer = optim.Adam(model.parameters(),lr=0.0001)\n"
      ]
    },
    {
      "cell_type": "markdown",
      "source": [
        "Perform a train test split"
      ],
      "metadata": {
        "id": "6AZ_jT8vccRX"
      },
      "id": "6AZ_jT8vccRX"
    },
    {
      "cell_type": "code",
      "execution_count": 22,
      "id": "deb871fd-c573-4434-9a87-f2470c3553a8",
      "metadata": {
        "id": "deb871fd-c573-4434-9a87-f2470c3553a8"
      },
      "outputs": [],
      "source": [
        "trainer = Trainer(model,train_loader,loss_fn,optimizer,val_loader,100)"
      ]
    },
    {
      "cell_type": "markdown",
      "source": [],
      "metadata": {
        "id": "7beb1O6-GgRd"
      },
      "id": "7beb1O6-GgRd"
    },
    {
      "cell_type": "code",
      "source": [
        "trainer.train()"
      ],
      "metadata": {
        "colab": {
          "base_uri": "https://localhost:8080/"
        },
        "id": "aErD56mXqrtV",
        "outputId": "182444ca-957c-45bf-f309-e43f4a89c0ce"
      },
      "id": "aErD56mXqrtV",
      "execution_count": 23,
      "outputs": [
        {
          "output_type": "stream",
          "name": "stdout",
          "text": [
            "Epoch: 10 loss: 0.24232666410454032 validation loss: 0.1794354443748792\n",
            "Epoch: 20 loss: 0.05348757805121648 validation loss: 0.05647265026345849\n",
            "Epoch: 30 loss: 0.044243403277101204 validation loss: 0.03820899044755303\n",
            "Epoch: 40 loss: 0.04009845449925504 validation loss: 0.03195512791959724\n",
            "Epoch: 50 loss: 0.03691489284715822 validation loss: 0.028994610227528028\n",
            "Epoch: 60 loss: 0.03454267478729081 validation loss: 0.028436059709444333\n",
            "Epoch: 70 loss: 0.03279267502431241 validation loss: 0.029157445234886836\n",
            "Epoch: 80 loss: 0.03149212479345604 validation loss: 0.030320770558319055\n",
            "Epoch: 90 loss: 0.030514820616291318 validation loss: 0.0314699832573145\n",
            "Epoch: 100 loss: 0.029769608212518506 validation loss: 0.0324059906124603\n"
          ]
        }
      ]
    },
    {
      "cell_type": "code",
      "source": [
        "def test(test_data):\n",
        "   model.eval()  \n",
        "   test_loss = 0.0\n",
        "   preds = []\n",
        "   with torch.no_grad():\n",
        "     for x,t in test_data:\n",
        "       pred = model(x)\n",
        "       loss = loss_fn(pred,t)\n",
        "       test_loss += loss.item()\n",
        "       preds.append(pred)\n",
        "     print(test_loss/len(test_data))\n",
        "   return preds"
      ],
      "metadata": {
        "id": "urWZ2n9o5leI"
      },
      "id": "urWZ2n9o5leI",
      "execution_count": 24,
      "outputs": []
    },
    {
      "cell_type": "code",
      "source": [
        "import os\n",
        "os.makedirs('/content/timeseries/checkpoints/',exist_ok=True)\n"
      ],
      "metadata": {
        "id": "f6CmstFKfmUH"
      },
      "id": "f6CmstFKfmUH",
      "execution_count": 40,
      "outputs": []
    },
    {
      "cell_type": "code",
      "source": [
        "torch.save(model.state_dict(),f\"/content/timeseries/checkpoints/lstmchkpt_1\")"
      ],
      "metadata": {
        "id": "_sOEzndyiXjC"
      },
      "id": "_sOEzndyiXjC",
      "execution_count": 39,
      "outputs": []
    },
    {
      "cell_type": "code",
      "source": [
        "p = test(test_loader)"
      ],
      "metadata": {
        "colab": {
          "base_uri": "https://localhost:8080/"
        },
        "id": "yNgvhjtg6aNv",
        "outputId": "a76aa157-2f99-4a21-82fb-fbbddae95650"
      },
      "id": "yNgvhjtg6aNv",
      "execution_count": 25,
      "outputs": [
        {
          "output_type": "stream",
          "name": "stdout",
          "text": [
            "0.03163832312566228\n"
          ]
        }
      ]
    },
    {
      "cell_type": "code",
      "source": [
        "p_a = []\n",
        "for x in p:\n",
        "  p_a.append(dataset.scaler.scaler.inverse_transform(np.array(x.view(-1).cpu()).reshape(-1,1)))"
      ],
      "metadata": {
        "id": "9_vGU_So6hHG"
      },
      "id": "9_vGU_So6hHG",
      "execution_count": 26,
      "outputs": []
    },
    {
      "cell_type": "code",
      "source": [
        "def predict(n_preds,past_val):\n",
        "  \"\"\"\n",
        "  Args:\n",
        "    past_val:nparray of shape [batch_size,seq_length]\n",
        "    n_preds:int number of forward times steps for which prediction is required\n",
        "  \"\"\"\n",
        "  out = []\n",
        "  with torch.no_grad():\n",
        "    input_ten = torch.tensor(past_val,dtype=torch.float32,device=device)\n",
        "    model.eval()\n",
        "    for p in range(n_preds):\n",
        "      input_ten = input_ten[:,-len(past_val[1]):].view(-1,len(past_val[1]))\n",
        "      print(input_ten.size())\n",
        "      preds = model(input_ten)\n",
        "      print(preds)\n",
        "      print(preds.size())\n",
        "      input_ten = torch.cat((input_ten,preds),1)\n",
        "      actual_pred = dataset.scaler.scaler.inverse_transform(preds.cpu().numpy())\n",
        "      out.append(actual_pred)\n",
        "      print(actual_pred)\n",
        "  return out"
      ],
      "metadata": {
        "id": "hs1h3aNazWSR"
      },
      "id": "hs1h3aNazWSR",
      "execution_count": 97,
      "outputs": []
    },
    {
      "cell_type": "code",
      "source": [
        "# def predict(self,n_preds,past_val,batch_size=1):\n",
        "#       out = []\n",
        "#       with torch.no_grad():\n",
        "#         input_ten = torch.tensor(past_val,dtype=torch.float32,device=self.device)\n",
        "#         self.eval()\n",
        "#         for p in range(n_preds):\n",
        "#           input_ten = input_ten[-len(past_val):].view(-1,len(past_val))\n",
        "#           self.hidden = (torch.zeros(1*self.n_layers,batch_size,self.hidden_dim,device=self.device),\n",
        "#                          torch.zeros(1*self.n_layers,batch_size,self.hidden_dim,device=self.device))\n",
        "#           preds = model(input_ten)\n",
        "#           input_ten = torch.cat((input_ten.view(-1),preds),0)\n",
        "#           out.append(preds)\n",
        "#       return out"
      ],
      "metadata": {
        "id": "It4TLmUOa7Ml"
      },
      "id": "It4TLmUOa7Ml",
      "execution_count": 28,
      "outputs": []
    },
    {
      "cell_type": "code",
      "source": [
        "pred_data=dataset.rawdata['Close'].iloc[-40:].to_numpy().reshape(4,-1)\n",
        "pred_data.shape"
      ],
      "metadata": {
        "id": "Go7vkGWAqrAv",
        "outputId": "0587eb0a-ea58-4c38-9922-c69f4385c273",
        "colab": {
          "base_uri": "https://localhost:8080/"
        }
      },
      "id": "Go7vkGWAqrAv",
      "execution_count": 49,
      "outputs": [
        {
          "output_type": "execute_result",
          "data": {
            "text/plain": [
              "(4, 10)"
            ]
          },
          "metadata": {},
          "execution_count": 49
        }
      ]
    },
    {
      "cell_type": "code",
      "source": [
        "actual = predict(10,pred_data)"
      ],
      "metadata": {
        "colab": {
          "base_uri": "https://localhost:8080/",
          "height": 502
        },
        "id": "hdM6Hp9p-Hdr",
        "outputId": "dd22b4a0-fc51-4a9d-96ea-04d3914bc940"
      },
      "id": "hdM6Hp9p-Hdr",
      "execution_count": 98,
      "outputs": [
        {
          "output_type": "stream",
          "name": "stdout",
          "text": [
            "torch.Size([4, 10])\n",
            "tensor([[1.4473],\n",
            "        [1.4473],\n",
            "        [1.4473],\n",
            "        [1.4473]], device='cuda:0')\n",
            "torch.Size([4, 1])\n",
            "[[8487.434]\n",
            " [8487.433]\n",
            " [8487.431]\n",
            " [8487.431]]\n",
            "torch.Size([4, 10])\n"
          ]
        },
        {
          "output_type": "error",
          "ename": "RuntimeError",
          "evalue": "ignored",
          "traceback": [
            "\u001b[0;31m---------------------------------------------------------------------------\u001b[0m",
            "\u001b[0;31mRuntimeError\u001b[0m                              Traceback (most recent call last)",
            "\u001b[0;32m<ipython-input-98-71b4d08b3c41>\u001b[0m in \u001b[0;36m<module>\u001b[0;34m\u001b[0m\n\u001b[0;32m----> 1\u001b[0;31m \u001b[0mactual\u001b[0m \u001b[0;34m=\u001b[0m \u001b[0mpredict\u001b[0m\u001b[0;34m(\u001b[0m\u001b[0;36m10\u001b[0m\u001b[0;34m,\u001b[0m\u001b[0mpred_data\u001b[0m\u001b[0;34m)\u001b[0m\u001b[0;34m\u001b[0m\u001b[0;34m\u001b[0m\u001b[0m\n\u001b[0m",
            "\u001b[0;32m<ipython-input-97-d8824d1249d8>\u001b[0m in \u001b[0;36mpredict\u001b[0;34m(n_preds, past_val)\u001b[0m\n\u001b[1;32m     12\u001b[0m       \u001b[0minput_ten\u001b[0m \u001b[0;34m=\u001b[0m \u001b[0minput_ten\u001b[0m\u001b[0;34m[\u001b[0m\u001b[0;34m:\u001b[0m\u001b[0;34m,\u001b[0m\u001b[0;34m-\u001b[0m\u001b[0mlen\u001b[0m\u001b[0;34m(\u001b[0m\u001b[0mpast_val\u001b[0m\u001b[0;34m[\u001b[0m\u001b[0;36m1\u001b[0m\u001b[0;34m]\u001b[0m\u001b[0;34m)\u001b[0m\u001b[0;34m:\u001b[0m\u001b[0;34m]\u001b[0m\u001b[0;34m.\u001b[0m\u001b[0mview\u001b[0m\u001b[0;34m(\u001b[0m\u001b[0;34m-\u001b[0m\u001b[0;36m1\u001b[0m\u001b[0;34m,\u001b[0m\u001b[0mlen\u001b[0m\u001b[0;34m(\u001b[0m\u001b[0mpast_val\u001b[0m\u001b[0;34m[\u001b[0m\u001b[0;36m1\u001b[0m\u001b[0;34m]\u001b[0m\u001b[0;34m)\u001b[0m\u001b[0;34m)\u001b[0m\u001b[0;34m\u001b[0m\u001b[0;34m\u001b[0m\u001b[0m\n\u001b[1;32m     13\u001b[0m       \u001b[0mprint\u001b[0m\u001b[0;34m(\u001b[0m\u001b[0minput_ten\u001b[0m\u001b[0;34m.\u001b[0m\u001b[0msize\u001b[0m\u001b[0;34m(\u001b[0m\u001b[0;34m)\u001b[0m\u001b[0;34m)\u001b[0m\u001b[0;34m\u001b[0m\u001b[0;34m\u001b[0m\u001b[0m\n\u001b[0;32m---> 14\u001b[0;31m       \u001b[0mpreds\u001b[0m \u001b[0;34m=\u001b[0m \u001b[0mmodel\u001b[0m\u001b[0;34m(\u001b[0m\u001b[0minput_ten\u001b[0m\u001b[0;34m)\u001b[0m\u001b[0;34m\u001b[0m\u001b[0;34m\u001b[0m\u001b[0m\n\u001b[0m\u001b[1;32m     15\u001b[0m       \u001b[0mprint\u001b[0m\u001b[0;34m(\u001b[0m\u001b[0mpreds\u001b[0m\u001b[0;34m)\u001b[0m\u001b[0;34m\u001b[0m\u001b[0;34m\u001b[0m\u001b[0m\n\u001b[1;32m     16\u001b[0m       \u001b[0mprint\u001b[0m\u001b[0;34m(\u001b[0m\u001b[0mpreds\u001b[0m\u001b[0;34m.\u001b[0m\u001b[0msize\u001b[0m\u001b[0;34m(\u001b[0m\u001b[0;34m)\u001b[0m\u001b[0;34m)\u001b[0m\u001b[0;34m\u001b[0m\u001b[0;34m\u001b[0m\u001b[0m\n",
            "\u001b[0;32m/usr/local/lib/python3.8/dist-packages/torch/nn/modules/module.py\u001b[0m in \u001b[0;36m_call_impl\u001b[0;34m(self, *input, **kwargs)\u001b[0m\n\u001b[1;32m   1188\u001b[0m         if not (self._backward_hooks or self._forward_hooks or self._forward_pre_hooks or _global_backward_hooks\n\u001b[1;32m   1189\u001b[0m                 or _global_forward_hooks or _global_forward_pre_hooks):\n\u001b[0;32m-> 1190\u001b[0;31m             \u001b[0;32mreturn\u001b[0m \u001b[0mforward_call\u001b[0m\u001b[0;34m(\u001b[0m\u001b[0;34m*\u001b[0m\u001b[0minput\u001b[0m\u001b[0;34m,\u001b[0m \u001b[0;34m**\u001b[0m\u001b[0mkwargs\u001b[0m\u001b[0;34m)\u001b[0m\u001b[0;34m\u001b[0m\u001b[0;34m\u001b[0m\u001b[0m\n\u001b[0m\u001b[1;32m   1191\u001b[0m         \u001b[0;31m# Do not call functions when jit is used\u001b[0m\u001b[0;34m\u001b[0m\u001b[0;34m\u001b[0m\u001b[0;34m\u001b[0m\u001b[0m\n\u001b[1;32m   1192\u001b[0m         \u001b[0mfull_backward_hooks\u001b[0m\u001b[0;34m,\u001b[0m \u001b[0mnon_full_backward_hooks\u001b[0m \u001b[0;34m=\u001b[0m \u001b[0;34m[\u001b[0m\u001b[0;34m]\u001b[0m\u001b[0;34m,\u001b[0m \u001b[0;34m[\u001b[0m\u001b[0;34m]\u001b[0m\u001b[0;34m\u001b[0m\u001b[0;34m\u001b[0m\u001b[0m\n",
            "\u001b[0;32m<ipython-input-9-aa24a31647b6>\u001b[0m in \u001b[0;36mforward\u001b[0;34m(self, x)\u001b[0m\n\u001b[1;32m     17\u001b[0m     \u001b[0;32mdef\u001b[0m \u001b[0mforward\u001b[0m\u001b[0;34m(\u001b[0m\u001b[0mself\u001b[0m\u001b[0;34m,\u001b[0m\u001b[0mx\u001b[0m\u001b[0;34m)\u001b[0m\u001b[0;34m:\u001b[0m\u001b[0;34m\u001b[0m\u001b[0;34m\u001b[0m\u001b[0m\n\u001b[1;32m     18\u001b[0m       \u001b[0mself\u001b[0m\u001b[0;34m.\u001b[0m\u001b[0mhidden\u001b[0m \u001b[0;34m=\u001b[0m \u001b[0;34m(\u001b[0m\u001b[0mtorch\u001b[0m\u001b[0;34m.\u001b[0m\u001b[0mzeros\u001b[0m\u001b[0;34m(\u001b[0m\u001b[0;36m1\u001b[0m\u001b[0;34m*\u001b[0m\u001b[0mself\u001b[0m\u001b[0;34m.\u001b[0m\u001b[0mn_layers\u001b[0m\u001b[0;34m,\u001b[0m\u001b[0mself\u001b[0m\u001b[0;34m.\u001b[0m\u001b[0mbatch_size\u001b[0m\u001b[0;34m,\u001b[0m\u001b[0mself\u001b[0m\u001b[0;34m.\u001b[0m\u001b[0mhidden_dim\u001b[0m\u001b[0;34m,\u001b[0m\u001b[0mdevice\u001b[0m\u001b[0;34m=\u001b[0m\u001b[0mself\u001b[0m\u001b[0;34m.\u001b[0m\u001b[0mdevice\u001b[0m\u001b[0;34m)\u001b[0m\u001b[0;34m,\u001b[0m\u001b[0mtorch\u001b[0m\u001b[0;34m.\u001b[0m\u001b[0mzeros\u001b[0m\u001b[0;34m(\u001b[0m\u001b[0;36m1\u001b[0m\u001b[0;34m*\u001b[0m\u001b[0mself\u001b[0m\u001b[0;34m.\u001b[0m\u001b[0mn_layers\u001b[0m\u001b[0;34m,\u001b[0m\u001b[0mself\u001b[0m\u001b[0;34m.\u001b[0m\u001b[0mbatch_size\u001b[0m\u001b[0;34m,\u001b[0m\u001b[0mself\u001b[0m\u001b[0;34m.\u001b[0m\u001b[0mhidden_dim\u001b[0m\u001b[0;34m,\u001b[0m\u001b[0mdevice\u001b[0m\u001b[0;34m=\u001b[0m\u001b[0mself\u001b[0m\u001b[0;34m.\u001b[0m\u001b[0mdevice\u001b[0m\u001b[0;34m)\u001b[0m\u001b[0;34m)\u001b[0m\u001b[0;34m\u001b[0m\u001b[0;34m\u001b[0m\u001b[0m\n\u001b[0;32m---> 19\u001b[0;31m       \u001b[0mout\u001b[0m\u001b[0;34m,\u001b[0m\u001b[0mself\u001b[0m\u001b[0;34m.\u001b[0m\u001b[0mhidden\u001b[0m \u001b[0;34m=\u001b[0m \u001b[0mself\u001b[0m\u001b[0;34m.\u001b[0m\u001b[0mlstm\u001b[0m\u001b[0;34m(\u001b[0m\u001b[0mx\u001b[0m\u001b[0;34m.\u001b[0m\u001b[0mview\u001b[0m\u001b[0;34m(\u001b[0m\u001b[0mlen\u001b[0m\u001b[0;34m(\u001b[0m\u001b[0mx\u001b[0m\u001b[0;34m[\u001b[0m\u001b[0;36m1\u001b[0m\u001b[0;34m]\u001b[0m\u001b[0;34m)\u001b[0m\u001b[0;34m,\u001b[0m\u001b[0mself\u001b[0m\u001b[0;34m.\u001b[0m\u001b[0mbatch_size\u001b[0m\u001b[0;34m,\u001b[0m\u001b[0;34m-\u001b[0m\u001b[0;36m1\u001b[0m\u001b[0;34m)\u001b[0m\u001b[0;34m,\u001b[0m\u001b[0mself\u001b[0m\u001b[0;34m.\u001b[0m\u001b[0mhidden\u001b[0m\u001b[0;34m)\u001b[0m\u001b[0;34m\u001b[0m\u001b[0;34m\u001b[0m\u001b[0m\n\u001b[0m\u001b[1;32m     20\u001b[0m       \u001b[0mpreds\u001b[0m \u001b[0;34m=\u001b[0m \u001b[0mself\u001b[0m\u001b[0;34m.\u001b[0m\u001b[0mout\u001b[0m\u001b[0;34m(\u001b[0m\u001b[0mout\u001b[0m\u001b[0;34m[\u001b[0m\u001b[0;34m-\u001b[0m\u001b[0;36m1\u001b[0m\u001b[0;34m]\u001b[0m\u001b[0;34m)\u001b[0m\u001b[0;34m\u001b[0m\u001b[0;34m\u001b[0m\u001b[0m\n\u001b[1;32m     21\u001b[0m       \u001b[0;32mreturn\u001b[0m \u001b[0mpreds\u001b[0m\u001b[0;34m\u001b[0m\u001b[0;34m\u001b[0m\u001b[0m\n",
            "\u001b[0;31mRuntimeError\u001b[0m: view size is not compatible with input tensor's size and stride (at least one dimension spans across two contiguous subspaces). Use .reshape(...) instead."
          ]
        }
      ]
    },
    {
      "cell_type": "code",
      "source": [
        "a = dataset.rawdata['Close'].iloc[-10:].to_numpy().reshape(1,-1).shape"
      ],
      "metadata": {
        "id": "FeUQUKLbr4u-"
      },
      "id": "FeUQUKLbr4u-",
      "execution_count": 42,
      "outputs": []
    },
    {
      "cell_type": "code",
      "source": [
        "t1 = torch.randn(4,10)\n",
        "t2 = torch.randn(4,1)\n"
      ],
      "metadata": {
        "id": "QZJnhlZ7kc7S"
      },
      "id": "QZJnhlZ7kc7S",
      "execution_count": 59,
      "outputs": []
    },
    {
      "cell_type": "code",
      "source": [
        "t3 = torch.cat((t1,t2),1)"
      ],
      "metadata": {
        "id": "sohbBhirtAJ4"
      },
      "id": "sohbBhirtAJ4",
      "execution_count": 84,
      "outputs": []
    },
    {
      "cell_type": "code",
      "source": [
        "print(t2)\n",
        "print(t2.size())\n",
        "t4 = t2.view(-1)\n",
        "print(t4.size())\n",
        "t4"
      ],
      "metadata": {
        "id": "IL3ah3iktEnm",
        "outputId": "d96f16f3-b761-4a59-bf62-1e43497fbc0f",
        "colab": {
          "base_uri": "https://localhost:8080/"
        }
      },
      "id": "IL3ah3iktEnm",
      "execution_count": 63,
      "outputs": [
        {
          "output_type": "stream",
          "name": "stdout",
          "text": [
            "tensor([[-2.5128e+00],\n",
            "        [-7.8202e-01],\n",
            "        [ 4.1493e-01],\n",
            "        [-2.3969e-03]])\n",
            "torch.Size([4, 1])\n",
            "torch.Size([4])\n"
          ]
        },
        {
          "output_type": "execute_result",
          "data": {
            "text/plain": [
              "tensor([-2.5128e+00, -7.8202e-01,  4.1493e-01, -2.3969e-03])"
            ]
          },
          "metadata": {},
          "execution_count": 63
        }
      ]
    },
    {
      "cell_type": "code",
      "source": [
        "t7 = t1[:,-len(t1[0]):].view(-1,len(t1[0]))\n",
        "t7"
      ],
      "metadata": {
        "id": "6GlQ0Jx5v4wd",
        "outputId": "3a6752bd-49c5-4d92-9710-148d188c925e",
        "colab": {
          "base_uri": "https://localhost:8080/"
        }
      },
      "id": "6GlQ0Jx5v4wd",
      "execution_count": 96,
      "outputs": [
        {
          "output_type": "execute_result",
          "data": {
            "text/plain": [
              "tensor([[-1.2124,  0.4552,  1.1292, -0.3701, -0.7648, -0.8840, -0.8880,  0.4540,\n",
              "          0.3168, -0.1377],\n",
              "        [-1.3522, -1.4382, -2.3599, -2.3989, -1.1829, -0.5666, -1.9389, -0.2141,\n",
              "          0.2763,  1.8017],\n",
              "        [ 2.1473, -0.4176,  0.7828, -1.2582,  1.3128, -1.0634,  1.0524, -0.0430,\n",
              "         -1.3005, -0.5499],\n",
              "        [-1.4483,  0.7166,  0.7265,  0.8216,  0.3388, -0.0641,  0.4313, -0.7465,\n",
              "          2.4237,  0.5834]])"
            ]
          },
          "metadata": {},
          "execution_count": 96
        }
      ]
    },
    {
      "cell_type": "code",
      "source": [
        "t3"
      ],
      "metadata": {
        "id": "9BpgmvX0zYFk",
        "outputId": "088f9f37-14c8-4caa-dea4-40f570402012",
        "colab": {
          "base_uri": "https://localhost:8080/"
        }
      },
      "id": "9BpgmvX0zYFk",
      "execution_count": 85,
      "outputs": [
        {
          "output_type": "execute_result",
          "data": {
            "text/plain": [
              "tensor([[-1.2124e+00,  4.5516e-01,  1.1292e+00, -3.7006e-01, -7.6477e-01,\n",
              "         -8.8405e-01, -8.8804e-01,  4.5398e-01,  3.1685e-01, -1.3770e-01,\n",
              "         -2.5128e+00],\n",
              "        [-1.3522e+00, -1.4382e+00, -2.3599e+00, -2.3989e+00, -1.1829e+00,\n",
              "         -5.6661e-01, -1.9389e+00, -2.1409e-01,  2.7630e-01,  1.8017e+00,\n",
              "         -7.8202e-01],\n",
              "        [ 2.1473e+00, -4.1756e-01,  7.8280e-01, -1.2582e+00,  1.3128e+00,\n",
              "         -1.0634e+00,  1.0524e+00, -4.2977e-02, -1.3005e+00, -5.4986e-01,\n",
              "          4.1493e-01],\n",
              "        [-1.4483e+00,  7.1657e-01,  7.2648e-01,  8.2164e-01,  3.3879e-01,\n",
              "         -6.4062e-02,  4.3131e-01, -7.4650e-01,  2.4237e+00,  5.8338e-01,\n",
              "         -2.3969e-03]])"
            ]
          },
          "metadata": {},
          "execution_count": 85
        }
      ]
    },
    {
      "cell_type": "code",
      "source": [
        "t3[:,-9:]"
      ],
      "metadata": {
        "id": "XBRmjnwh0WXy",
        "outputId": "cf6829da-7a68-471b-caa8-78624030033e",
        "colab": {
          "base_uri": "https://localhost:8080/"
        }
      },
      "id": "XBRmjnwh0WXy",
      "execution_count": 93,
      "outputs": [
        {
          "output_type": "execute_result",
          "data": {
            "text/plain": [
              "tensor([[ 1.1292e+00, -3.7006e-01, -7.6477e-01, -8.8405e-01, -8.8804e-01,\n",
              "          4.5398e-01,  3.1685e-01, -1.3770e-01, -2.5128e+00],\n",
              "        [-2.3599e+00, -2.3989e+00, -1.1829e+00, -5.6661e-01, -1.9389e+00,\n",
              "         -2.1409e-01,  2.7630e-01,  1.8017e+00, -7.8202e-01],\n",
              "        [ 7.8280e-01, -1.2582e+00,  1.3128e+00, -1.0634e+00,  1.0524e+00,\n",
              "         -4.2977e-02, -1.3005e+00, -5.4986e-01,  4.1493e-01],\n",
              "        [ 7.2648e-01,  8.2164e-01,  3.3879e-01, -6.4062e-02,  4.3131e-01,\n",
              "         -7.4650e-01,  2.4237e+00,  5.8338e-01, -2.3969e-03]])"
            ]
          },
          "metadata": {},
          "execution_count": 93
        }
      ]
    },
    {
      "cell_type": "code",
      "source": [
        "pr = dataset.scaler.scaler.inverse_transform(t2.cpu().numpy())"
      ],
      "metadata": {
        "id": "xQ5dzCNFt7i2"
      },
      "id": "xQ5dzCNFt7i2",
      "execution_count": 65,
      "outputs": []
    },
    {
      "cell_type": "code",
      "source": [
        "pr"
      ],
      "metadata": {
        "id": "WdY5RpEvu3tR",
        "outputId": "06e23161-44b9-40d3-d349-f3d26ad7e1ba",
        "colab": {
          "base_uri": "https://localhost:8080/"
        }
      },
      "id": "WdY5RpEvu3tR",
      "execution_count": 66,
      "outputs": [
        {
          "output_type": "execute_result",
          "data": {
            "text/plain": [
              "array([[3131.2292],\n",
              "       [5472.1255],\n",
              "       [7091.0664],\n",
              "       [6526.608 ]], dtype=float32)"
            ]
          },
          "metadata": {},
          "execution_count": 66
        }
      ]
    },
    {
      "cell_type": "code",
      "source": [
        "b= torch.tensor(a[-len(a):].view(len(a),-1)"
      ],
      "metadata": {
        "id": "b1ruzcpycq2I"
      },
      "id": "b1ruzcpycq2I",
      "execution_count": null,
      "outputs": []
    },
    {
      "cell_type": "code",
      "source": [
        "ap = [x.reshape(1)[0] for x in actual]\n",
        "ap\n"
      ],
      "metadata": {
        "id": "SteFRv0GEF1o"
      },
      "id": "SteFRv0GEF1o",
      "execution_count": null,
      "outputs": []
    },
    {
      "cell_type": "code",
      "source": [
        "df = pd.read_csv('/content/timeseries/ULTRACEMCO.NS.csv')"
      ],
      "metadata": {
        "id": "HzuMXzfyFUNh"
      },
      "id": "HzuMXzfyFUNh",
      "execution_count": null,
      "outputs": []
    },
    {
      "cell_type": "code",
      "source": [
        "df2 = pd.DataFrame(pd.date_range('2022-11-17',periods=10).date)\n",
        "df2.columns = ['Date']\n",
        "df2['ap'] = ap"
      ],
      "metadata": {
        "id": "-E7lLYpkFc1g"
      },
      "id": "-E7lLYpkFc1g",
      "execution_count": null,
      "outputs": []
    },
    {
      "cell_type": "code",
      "source": [
        "df3 = pd.concat([df,df2],axis=0)"
      ],
      "metadata": {
        "id": "DZa8-w8pIZ-y"
      },
      "id": "DZa8-w8pIZ-y",
      "execution_count": null,
      "outputs": []
    },
    {
      "cell_type": "code",
      "source": [
        "df4 = df3[-30:]\n"
      ],
      "metadata": {
        "id": "SAX1oUf0JpuM"
      },
      "id": "SAX1oUf0JpuM",
      "execution_count": null,
      "outputs": []
    },
    {
      "cell_type": "code",
      "source": [
        "df4['Date'] = pd.to_datetime(df4['Date'])"
      ],
      "metadata": {
        "id": "KoJdUX2pVx8U"
      },
      "id": "KoJdUX2pVx8U",
      "execution_count": null,
      "outputs": []
    },
    {
      "cell_type": "code",
      "execution_count": null,
      "id": "e8efc599-eb9b-4652-8c06-2e50908202aa",
      "metadata": {
        "id": "e8efc599-eb9b-4652-8c06-2e50908202aa"
      },
      "outputs": [],
      "source": [
        "from matplotlib import pyplot as plt\n",
        "import seaborn as sns"
      ]
    },
    {
      "cell_type": "code",
      "source": [
        "sns.lineplot(x='Date',y='Close',data=df4)\n",
        "sns.lineplot(x='Date',y='ap',data=df4)\n",
        "plt.ylabel(\"Price\")\n",
        "plt.xticks(rotation = 20)\n",
        "plt.show()"
      ],
      "metadata": {
        "id": "CQOe4wV1_A8e"
      },
      "id": "CQOe4wV1_A8e",
      "execution_count": null,
      "outputs": []
    },
    {
      "cell_type": "code",
      "source": [
        "torch.cuda.empty_cache()"
      ],
      "metadata": {
        "id": "82JHwMwCRwBm"
      },
      "id": "82JHwMwCRwBm",
      "execution_count": null,
      "outputs": []
    },
    {
      "cell_type": "markdown",
      "source": [
        "# New Section"
      ],
      "metadata": {
        "id": "edFuUr03Sxue"
      },
      "id": "edFuUr03Sxue"
    },
    {
      "cell_type": "code",
      "source": [
        "dataset.rawdata['Close'].iloc[-6:]"
      ],
      "metadata": {
        "id": "ViTdSf6JaVXD"
      },
      "id": "ViTdSf6JaVXD",
      "execution_count": null,
      "outputs": []
    },
    {
      "cell_type": "code",
      "source": [
        "len(train_loader)"
      ],
      "metadata": {
        "id": "xbZKYAkfgZUH"
      },
      "id": "xbZKYAkfgZUH",
      "execution_count": null,
      "outputs": []
    },
    {
      "cell_type": "code",
      "source": [
        "x = torch.randn(4, 3, 4)\n",
        "lin = nn.Linear(4, 10)\n",
        "out = lin(x)\n",
        "print(out.shape)\n",
        "torch.Size([2, 3, 10])"
      ],
      "metadata": {
        "id": "IfhC12UmnkV2"
      },
      "id": "IfhC12UmnkV2",
      "execution_count": null,
      "outputs": []
    }
  ],
  "metadata": {
    "kernelspec": {
      "display_name": "Python 3 (ipykernel)",
      "language": "python",
      "name": "python3"
    },
    "language_info": {
      "codemirror_mode": {
        "name": "ipython",
        "version": 3
      },
      "file_extension": ".py",
      "mimetype": "text/x-python",
      "name": "python",
      "nbconvert_exporter": "python",
      "pygments_lexer": "ipython3",
      "version": "3.10.0"
    },
    "colab": {
      "provenance": []
    },
    "gpuClass": "standard",
    "accelerator": "GPU"
  },
  "nbformat": 4,
  "nbformat_minor": 5
}