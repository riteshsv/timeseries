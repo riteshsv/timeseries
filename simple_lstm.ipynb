{
  "cells": [
    {
      "cell_type": "code",
      "execution_count": 2,
      "id": "755fecfc-c576-4eec-9323-d69736d5bc9b",
      "metadata": {
        "id": "755fecfc-c576-4eec-9323-d69736d5bc9b"
      },
      "outputs": [],
      "source": [
        "import numpy as np\n",
        "import os"
      ]
    },
    {
      "cell_type": "code",
      "execution_count": 3,
      "id": "74f07969-2fbd-43a5-b212-7f5fad592cbd",
      "metadata": {
        "id": "74f07969-2fbd-43a5-b212-7f5fad592cbd"
      },
      "outputs": [],
      "source": [
        "def preparedata_time_window(input_data,window):\n",
        "    out_data = []\n",
        "    # rearrange the input in form of output based on 3 observations in past\n",
        "    for i in range(len(input_data)):\n",
        "        if (i+window+1) <= len(input_data):\n",
        "            out_data.append((input_data[i:i+window],input_data[i+window:i+(window+1)]))\n",
        "            \n",
        "    return out_data"
      ]
    },
    {
      "cell_type": "code",
      "execution_count": 4,
      "id": "f2d8d6f9-5f82-489d-a153-455a514e4ba2",
      "metadata": {
        "id": "f2d8d6f9-5f82-489d-a153-455a514e4ba2"
      },
      "outputs": [],
      "source": [
        "import pandas as pd"
      ]
    },
    {
      "cell_type": "code",
      "execution_count": 5,
      "id": "4005c140-8a13-4ff8-8872-220f5081fc77",
      "metadata": {
        "id": "4005c140-8a13-4ff8-8872-220f5081fc77"
      },
      "outputs": [],
      "source": [
        "import torch\n",
        "from torch import nn     \n",
        "import torch.nn.functional as F\n",
        "import torch.optim as optim\n",
        "from torch.utils.data import Dataset,DataLoader"
      ]
    },
    {
      "cell_type": "code",
      "execution_count": 6,
      "id": "b3cf6614-4882-4b4d-a555-ab9efcdbb4c7",
      "metadata": {
        "id": "b3cf6614-4882-4b4d-a555-ab9efcdbb4c7"
      },
      "outputs": [],
      "source": [
        "# df = pd.read_csv('https://raw.githubusercontent.com/riteshsv/simplelstm/main/tsdata.csv')\n",
        "# df.columns=['sales']\n",
        "# df.head()"
      ]
    },
    {
      "cell_type": "code",
      "source": [
        "df = pd.read_csv('/content/timeseries/ULTRACEMCO.NS.csv')\n",
        "# df.columns=['sales']\n",
        "df.head()"
      ],
      "metadata": {
        "id": "AZImQOB5yuyk",
        "outputId": "aa23b69f-7a1d-4047-f509-285e0977d69b",
        "colab": {
          "base_uri": "https://localhost:8080/",
          "height": 206
        }
      },
      "id": "AZImQOB5yuyk",
      "execution_count": 7,
      "outputs": [
        {
          "output_type": "execute_result",
          "data": {
            "text/plain": [
              "         Date    Open         High          Low        Close    Adj Close  \\\n",
              "0  2021-11-16  8120.0  8139.000000  7856.299805  7882.399902  7837.409180   \n",
              "1  2021-11-17  7845.0  7948.950195  7801.000000  7857.700195  7812.850586   \n",
              "2  2021-11-18  7899.0  7930.000000  7715.049805  7767.700195  7723.364258   \n",
              "3  2021-11-22  7799.0  7808.600098  7550.600098  7653.799805  7610.113770   \n",
              "4  2021-11-23  7620.0  7714.700195  7540.700195  7657.950195  7614.240723   \n",
              "\n",
              "   Volume  \n",
              "0  277983  \n",
              "1  183623  \n",
              "2  196805  \n",
              "3  383629  \n",
              "4  475377  "
            ],
            "text/html": [
              "\n",
              "  <div id=\"df-ee22e1b1-84c5-4897-8d5e-2085cbd7577e\">\n",
              "    <div class=\"colab-df-container\">\n",
              "      <div>\n",
              "<style scoped>\n",
              "    .dataframe tbody tr th:only-of-type {\n",
              "        vertical-align: middle;\n",
              "    }\n",
              "\n",
              "    .dataframe tbody tr th {\n",
              "        vertical-align: top;\n",
              "    }\n",
              "\n",
              "    .dataframe thead th {\n",
              "        text-align: right;\n",
              "    }\n",
              "</style>\n",
              "<table border=\"1\" class=\"dataframe\">\n",
              "  <thead>\n",
              "    <tr style=\"text-align: right;\">\n",
              "      <th></th>\n",
              "      <th>Date</th>\n",
              "      <th>Open</th>\n",
              "      <th>High</th>\n",
              "      <th>Low</th>\n",
              "      <th>Close</th>\n",
              "      <th>Adj Close</th>\n",
              "      <th>Volume</th>\n",
              "    </tr>\n",
              "  </thead>\n",
              "  <tbody>\n",
              "    <tr>\n",
              "      <th>0</th>\n",
              "      <td>2021-11-16</td>\n",
              "      <td>8120.0</td>\n",
              "      <td>8139.000000</td>\n",
              "      <td>7856.299805</td>\n",
              "      <td>7882.399902</td>\n",
              "      <td>7837.409180</td>\n",
              "      <td>277983</td>\n",
              "    </tr>\n",
              "    <tr>\n",
              "      <th>1</th>\n",
              "      <td>2021-11-17</td>\n",
              "      <td>7845.0</td>\n",
              "      <td>7948.950195</td>\n",
              "      <td>7801.000000</td>\n",
              "      <td>7857.700195</td>\n",
              "      <td>7812.850586</td>\n",
              "      <td>183623</td>\n",
              "    </tr>\n",
              "    <tr>\n",
              "      <th>2</th>\n",
              "      <td>2021-11-18</td>\n",
              "      <td>7899.0</td>\n",
              "      <td>7930.000000</td>\n",
              "      <td>7715.049805</td>\n",
              "      <td>7767.700195</td>\n",
              "      <td>7723.364258</td>\n",
              "      <td>196805</td>\n",
              "    </tr>\n",
              "    <tr>\n",
              "      <th>3</th>\n",
              "      <td>2021-11-22</td>\n",
              "      <td>7799.0</td>\n",
              "      <td>7808.600098</td>\n",
              "      <td>7550.600098</td>\n",
              "      <td>7653.799805</td>\n",
              "      <td>7610.113770</td>\n",
              "      <td>383629</td>\n",
              "    </tr>\n",
              "    <tr>\n",
              "      <th>4</th>\n",
              "      <td>2021-11-23</td>\n",
              "      <td>7620.0</td>\n",
              "      <td>7714.700195</td>\n",
              "      <td>7540.700195</td>\n",
              "      <td>7657.950195</td>\n",
              "      <td>7614.240723</td>\n",
              "      <td>475377</td>\n",
              "    </tr>\n",
              "  </tbody>\n",
              "</table>\n",
              "</div>\n",
              "      <button class=\"colab-df-convert\" onclick=\"convertToInteractive('df-ee22e1b1-84c5-4897-8d5e-2085cbd7577e')\"\n",
              "              title=\"Convert this dataframe to an interactive table.\"\n",
              "              style=\"display:none;\">\n",
              "        \n",
              "  <svg xmlns=\"http://www.w3.org/2000/svg\" height=\"24px\"viewBox=\"0 0 24 24\"\n",
              "       width=\"24px\">\n",
              "    <path d=\"M0 0h24v24H0V0z\" fill=\"none\"/>\n",
              "    <path d=\"M18.56 5.44l.94 2.06.94-2.06 2.06-.94-2.06-.94-.94-2.06-.94 2.06-2.06.94zm-11 1L8.5 8.5l.94-2.06 2.06-.94-2.06-.94L8.5 2.5l-.94 2.06-2.06.94zm10 10l.94 2.06.94-2.06 2.06-.94-2.06-.94-.94-2.06-.94 2.06-2.06.94z\"/><path d=\"M17.41 7.96l-1.37-1.37c-.4-.4-.92-.59-1.43-.59-.52 0-1.04.2-1.43.59L10.3 9.45l-7.72 7.72c-.78.78-.78 2.05 0 2.83L4 21.41c.39.39.9.59 1.41.59.51 0 1.02-.2 1.41-.59l7.78-7.78 2.81-2.81c.8-.78.8-2.07 0-2.86zM5.41 20L4 18.59l7.72-7.72 1.47 1.35L5.41 20z\"/>\n",
              "  </svg>\n",
              "      </button>\n",
              "      \n",
              "  <style>\n",
              "    .colab-df-container {\n",
              "      display:flex;\n",
              "      flex-wrap:wrap;\n",
              "      gap: 12px;\n",
              "    }\n",
              "\n",
              "    .colab-df-convert {\n",
              "      background-color: #E8F0FE;\n",
              "      border: none;\n",
              "      border-radius: 50%;\n",
              "      cursor: pointer;\n",
              "      display: none;\n",
              "      fill: #1967D2;\n",
              "      height: 32px;\n",
              "      padding: 0 0 0 0;\n",
              "      width: 32px;\n",
              "    }\n",
              "\n",
              "    .colab-df-convert:hover {\n",
              "      background-color: #E2EBFA;\n",
              "      box-shadow: 0px 1px 2px rgba(60, 64, 67, 0.3), 0px 1px 3px 1px rgba(60, 64, 67, 0.15);\n",
              "      fill: #174EA6;\n",
              "    }\n",
              "\n",
              "    [theme=dark] .colab-df-convert {\n",
              "      background-color: #3B4455;\n",
              "      fill: #D2E3FC;\n",
              "    }\n",
              "\n",
              "    [theme=dark] .colab-df-convert:hover {\n",
              "      background-color: #434B5C;\n",
              "      box-shadow: 0px 1px 3px 1px rgba(0, 0, 0, 0.15);\n",
              "      filter: drop-shadow(0px 1px 2px rgba(0, 0, 0, 0.3));\n",
              "      fill: #FFFFFF;\n",
              "    }\n",
              "  </style>\n",
              "\n",
              "      <script>\n",
              "        const buttonEl =\n",
              "          document.querySelector('#df-ee22e1b1-84c5-4897-8d5e-2085cbd7577e button.colab-df-convert');\n",
              "        buttonEl.style.display =\n",
              "          google.colab.kernel.accessAllowed ? 'block' : 'none';\n",
              "\n",
              "        async function convertToInteractive(key) {\n",
              "          const element = document.querySelector('#df-ee22e1b1-84c5-4897-8d5e-2085cbd7577e');\n",
              "          const dataTable =\n",
              "            await google.colab.kernel.invokeFunction('convertToInteractive',\n",
              "                                                     [key], {});\n",
              "          if (!dataTable) return;\n",
              "\n",
              "          const docLinkHtml = 'Like what you see? Visit the ' +\n",
              "            '<a target=\"_blank\" href=https://colab.research.google.com/notebooks/data_table.ipynb>data table notebook</a>'\n",
              "            + ' to learn more about interactive tables.';\n",
              "          element.innerHTML = '';\n",
              "          dataTable['output_type'] = 'display_data';\n",
              "          await google.colab.output.renderOutput(dataTable, element);\n",
              "          const docLink = document.createElement('div');\n",
              "          docLink.innerHTML = docLinkHtml;\n",
              "          element.appendChild(docLink);\n",
              "        }\n",
              "      </script>\n",
              "    </div>\n",
              "  </div>\n",
              "  "
            ]
          },
          "metadata": {},
          "execution_count": 7
        }
      ]
    },
    {
      "cell_type": "code",
      "source": [
        "df['Date'].min()"
      ],
      "metadata": {
        "id": "aUmFVjwlzAep",
        "outputId": "0bd64149-d103-4aae-b3f6-be5ef00e2caf",
        "colab": {
          "base_uri": "https://localhost:8080/",
          "height": 35
        }
      },
      "id": "aUmFVjwlzAep",
      "execution_count": 8,
      "outputs": [
        {
          "output_type": "execute_result",
          "data": {
            "text/plain": [
              "'2021-11-16'"
            ],
            "application/vnd.google.colaboratory.intrinsic+json": {
              "type": "string"
            }
          },
          "metadata": {},
          "execution_count": 8
        }
      ]
    },
    {
      "cell_type": "code",
      "execution_count": 9,
      "id": "6b62c6ca-fdbb-491d-8898-ab87ffe88541",
      "metadata": {
        "id": "6b62c6ca-fdbb-491d-8898-ab87ffe88541"
      },
      "outputs": [],
      "source": [
        "from sklearn.preprocessing import MinMaxScaler"
      ]
    },
    {
      "cell_type": "code",
      "execution_count": 10,
      "id": "a29644c6-5bdf-471a-9565-d733f81a3e6f",
      "metadata": {
        "id": "a29644c6-5bdf-471a-9565-d733f81a3e6f"
      },
      "outputs": [],
      "source": [
        "data = df['Close'].values.astype(float)"
      ]
    },
    {
      "cell_type": "code",
      "execution_count": 11,
      "id": "26a068af-6666-4199-9499-422e28413cae",
      "metadata": {
        "id": "26a068af-6666-4199-9499-422e28413cae",
        "outputId": "11e44fa2-e7f8-42f3-997e-d2c2aca25838",
        "colab": {
          "base_uri": "https://localhost:8080/"
        }
      },
      "outputs": [
        {
          "output_type": "execute_result",
          "data": {
            "text/plain": [
              "(249,)"
            ]
          },
          "metadata": {},
          "execution_count": 11
        }
      ],
      "source": [
        "data.shape"
      ]
    },
    {
      "cell_type": "code",
      "source": [],
      "metadata": {
        "id": "rM4MXYvsguQ6"
      },
      "id": "rM4MXYvsguQ6",
      "execution_count": 11,
      "outputs": []
    },
    {
      "cell_type": "code",
      "execution_count": 12,
      "id": "5b9215ac-3ff5-4e70-924f-4c51514f0e3c",
      "metadata": {
        "id": "5b9215ac-3ff5-4e70-924f-4c51514f0e3c"
      },
      "outputs": [],
      "source": [
        "# X = np.array(X)\n",
        "# y = np.array(y)"
      ]
    },
    {
      "cell_type": "code",
      "execution_count": 13,
      "id": "c2fc6113-b7c7-4cdc-95c7-e1acbcc7377a",
      "metadata": {
        "id": "c2fc6113-b7c7-4cdc-95c7-e1acbcc7377a"
      },
      "outputs": [],
      "source": [
        "# scaler = MinMaxScaler(feature_range=(-1,1))\n",
        "# scaled_input = scaler.fit_transform( np.array(input_data).reshape(-1,1))"
      ]
    },
    {
      "cell_type": "code",
      "execution_count": 14,
      "id": "8f4a7568-a4de-43b2-826a-83dddb89b646",
      "metadata": {
        "id": "8f4a7568-a4de-43b2-826a-83dddb89b646"
      },
      "outputs": [],
      "source": [
        "# train_data = preparedata_time_window(torch.tensor(scaled_input,dtype=torch.float32).view(-1),3)"
      ]
    },
    {
      "cell_type": "code",
      "execution_count": 109,
      "id": "d3c1ae80-0e25-4477-871d-0dd3a80c6f97",
      "metadata": {
        "id": "d3c1ae80-0e25-4477-871d-0dd3a80c6f97"
      },
      "outputs": [],
      "source": [
        "class LSTMSimple(nn.Module):\n",
        "    def __init__(self, input_dim,hidden_dim,out_size,num_layers=1,batch_size=1):\n",
        "        super(LSTMSimple,self).__init__()\n",
        "        self.batch_size = batch_size\n",
        "        self.lstm = nn.LSTM(input_dim, hidden_dim)\n",
        "        self.out = nn.Linear(hidden_dim,out_size)\n",
        "        self.hidden = (torch.zeros(1*num_layers,batch_size,hidden_dim),torch.zeros(1*num_layers,batch_size,hidden_dim))\n",
        "    def forward(self,x):\n",
        "      self.hidden = (torch.zeros(1,1,50,device=device),torch.zeros(1,1,50,device=device))\n",
        "      out,self.hidden = self.lstm(x.view(-1,self.batch_size,len(x)),self.hidden)\n",
        "      preds = self.out(out[-1])\n",
        "      return preds[0]"
      ]
    },
    {
      "cell_type": "code",
      "source": [
        "class Trainer():\n",
        "  def __init__(self,model,train_data,loss_fn,optimizer,val_data=None,epochs=1):\n",
        "    self.model = model\n",
        "    self.epochs = epochs\n",
        "    self.train_data = train_data\n",
        "    self.val_data = val_data\n",
        "    self.loss_fn = loss_fn\n",
        "    self.optimizer = optimizer\n",
        "  def train(self):\n",
        "    for epoch in range(self.epochs):\n",
        "      self.model.train()\n",
        "      train_loss = 0.0  \n",
        "      for x,t in self.train_data:\n",
        "        self.model.zero_grad()\n",
        "        preds = model(x)\n",
        "        loss = self.loss_fn(preds,t)\n",
        "        loss.backward()\n",
        "        self.optimizer.step()\n",
        "        train_loss += loss.item()\n",
        "      train_loss = train_loss/len(self.train_data)\n",
        "      if self.val_data != None:\n",
        "        val_loss = self.__validation()\n",
        "      if epoch%10 == 0:\n",
        "        print(f\"Epoch: {epoch} loss: {train_loss} validation loss: {val_loss}\")\n",
        "  def __validation(self):\n",
        "    self.model.eval()  \n",
        "    val_loss = 0.0\n",
        "    with torch.no_grad():\n",
        "      for x,t in self.val_data:\n",
        "        preds = self.model(x)\n",
        "        loss = self.loss_fn(preds,t)\n",
        "        val_loss += loss.item()\n",
        "    return val_loss/len(self.val_data)"
      ],
      "metadata": {
        "id": "tpam40OcuPVq"
      },
      "id": "tpam40OcuPVq",
      "execution_count": 117,
      "outputs": []
    },
    {
      "cell_type": "code",
      "source": [
        "if torch.cuda.is_available():\n",
        "    device = torch.device('cuda')\n",
        "else:\n",
        "    device = torch.device('cpu')"
      ],
      "metadata": {
        "id": "vAbY37XExMlf"
      },
      "id": "vAbY37XExMlf",
      "execution_count": 118,
      "outputs": []
    },
    {
      "cell_type": "code",
      "execution_count": 119,
      "id": "142c5343-8ee7-4b79-bee6-2b0baa2b9a09",
      "metadata": {
        "id": "142c5343-8ee7-4b79-bee6-2b0baa2b9a09",
        "outputId": "70962e7f-4464-468f-f32d-2413a4ae36bf",
        "colab": {
          "base_uri": "https://localhost:8080/"
        }
      },
      "outputs": [
        {
          "output_type": "execute_result",
          "data": {
            "text/plain": [
              "LSTMSimple(\n",
              "  (lstm): LSTM(1, 50)\n",
              "  (out): Linear(in_features=50, out_features=1, bias=True)\n",
              ")"
            ]
          },
          "metadata": {},
          "execution_count": 119
        }
      ],
      "source": [
        "model = LSTMSimple(1,50,1)\n",
        "model.to(device)"
      ]
    },
    {
      "cell_type": "code",
      "execution_count": 120,
      "id": "c3da36b6-7009-4191-bc9c-db00c227987d",
      "metadata": {
        "id": "c3da36b6-7009-4191-bc9c-db00c227987d"
      },
      "outputs": [],
      "source": [
        "loss_fn = nn.MSELoss()\n",
        "optimizer = optim.SGD(model.parameters(),lr=0.001)\n"
      ]
    },
    {
      "cell_type": "code",
      "execution_count": 20,
      "id": "659ffe94-d00c-4ce5-a2cd-874614930a13",
      "metadata": {
        "id": "659ffe94-d00c-4ce5-a2cd-874614930a13"
      },
      "outputs": [],
      "source": [
        "# def train(train_data):\n",
        "#     for epoch in range(100):\n",
        "#         for x,t in train_data:\n",
        "#             model.zero_grad()\n",
        "#             model.hidden = (torch.zeros(1,1,50,device=device),torch.zeros(1,1,50,device=device))\n",
        "\n",
        "#             preds = model(x)\n",
        "#             loss = loss_fn(preds,t)\n",
        "#             loss.backward()\n",
        "#             optimizer.step()\n",
        "#         if epoch%25 == 0:\n",
        "#             print(f\"epoch: {epoch} loss:{loss.item()}\")\n",
        "        \n",
        "\n",
        "        "
      ]
    },
    {
      "cell_type": "code",
      "execution_count": 21,
      "id": "d1019051-4e51-4467-be8d-6866d8cc00fc",
      "metadata": {
        "id": "d1019051-4e51-4467-be8d-6866d8cc00fc"
      },
      "outputs": [],
      "source": [
        "class StandardizeInput():\n",
        "  def __init__(self):\n",
        "    self.scaler = MinMaxScaler(feature_range=(-1,1)) \n",
        "  def __call__(self,data):\n",
        "    return self.scaler.fit_transform(data)\n",
        "\n",
        "# scaler2 = MinMaxScaler(feature_range=(-1,1))\n",
        "# scaled_input2 = scaler2.fit_transform(data.reshape(-1,1))\n"
      ]
    },
    {
      "cell_type": "markdown",
      "source": [
        "Perform a train test split"
      ],
      "metadata": {
        "id": "6AZ_jT8vccRX"
      },
      "id": "6AZ_jT8vccRX"
    },
    {
      "cell_type": "code",
      "source": [
        "# test_size = 50\n",
        "# train_data = preparedata_time_window(torch.tensor(scaled_input2[:-test_size],dtype=torch.float32,device=device).view(-1),14)\n",
        "# test_data = preparedata_time_window(torch.tensor(scaled_input2[-test_size:],dtype=torch.float32,device=device).view(-1),14)"
      ],
      "metadata": {
        "id": "v6F54OoocW7u"
      },
      "id": "v6F54OoocW7u",
      "execution_count": 22,
      "outputs": []
    },
    {
      "cell_type": "code",
      "source": [
        "class UnivariateTsDataset(Dataset):\n",
        "    \"\"\"Univariate time serices dataset.\"\"\"\n",
        "\n",
        "    def __init__(self, csv_file, target:str=None, transform=None, window=1,features:list=None,n_features=1,scaler=None):\n",
        "        \"\"\"\n",
        "        Args:\n",
        "            csv_file (string): Path to the csv file with annotations.\n",
        "            transform (callable, optional): Optional transform to be applied\n",
        "                on a sample.\n",
        "            window (integer): Number of time steps in the past\n",
        "            features (list) : list of features to be used, default is all features\n",
        "            n_features (integer) : number of features to be used. default is 1, min number of features required\n",
        "        \"\"\"\n",
        "        self.transform = transform\n",
        "        self.target = target\n",
        "        self.window = window\n",
        "        self.features = features\n",
        "        self.scaler=scaler\n",
        "        if len(self.features) > 0:\n",
        "          self.n_features = len(self.features)\n",
        "        else:\n",
        "          self.n_features = n_features\n",
        "        self.data = self.preprocess(pd.read_csv(csv_file))\n",
        "    \n",
        "    def preprocess(self,input_df):\n",
        "      if self.features != None:\n",
        "        input_data = input_df[self.features]\n",
        "      else:\n",
        "        input_data = input_df\n",
        "      # scaling\n",
        "      if self.scaler != None:\n",
        "        input_data = self.scaler(input_data)\n",
        "      # convert to tensors\n",
        "      input_data_tensor = torch.tensor(input_data,dtype=torch.float32,device=device).view(-1)\n",
        "      out_data = []\n",
        "      # rearrange the input in form of output based on 3 observations in past\n",
        "      for i in range(len(input_data_tensor)):\n",
        "        if (i+self.window+1) <= len(input_data_tensor):\n",
        "          out_data.append((input_data_tensor[i:i+self.window],input_data_tensor[i+self.window:i+(self.window+1)]))\n",
        "            \n",
        "      return out_data\n",
        "    \n",
        "    def train_val_test_split(self,train_size=0.8,test_size=.20,val_size=0.0):\n",
        "      train_len = int(train_size*len(self.data))\n",
        "      train_set = torch.utils.data.Subset(self,np.arange(train_len))\n",
        "      val_len = int(len(self.data)*val_size)\n",
        "      if val_size > 0:\n",
        "        val_set = torch.utils.data.Subset(self,np.arange(train_len,(train_len+val_len)))\n",
        "      test_set = torch.utils.data.Subset(self,np.arange((train_len+val_len),len(self.data)))\n",
        "      if val_size > 0:\n",
        "        return train_set,val_set,test_set\n",
        "      return train_set,test_set\n",
        "\n",
        "    def __len__(self):\n",
        "        return len(self.data)\n",
        "\n",
        "    def __getitem__(self, idx):\n",
        "        if torch.is_tensor(idx):\n",
        "            idx = idx.tolist()\n",
        "\n",
        "        sample = self.data[idx]\n",
        "\n",
        "        return sample"
      ],
      "metadata": {
        "id": "GOEB_I37dfCC"
      },
      "id": "GOEB_I37dfCC",
      "execution_count": 23,
      "outputs": []
    },
    {
      "cell_type": "code",
      "source": [],
      "metadata": {
        "id": "MZsRExY9QaC9"
      },
      "id": "MZsRExY9QaC9",
      "execution_count": 23,
      "outputs": []
    },
    {
      "cell_type": "code",
      "source": [
        "dataset = UnivariateTsDataset('/content/timeseries/ULTRACEMCO.NS.csv',window=14,features=['Close'],n_features=1,scaler=StandardizeInput())"
      ],
      "metadata": {
        "id": "9TeYXNf2PgXc"
      },
      "id": "9TeYXNf2PgXc",
      "execution_count": 24,
      "outputs": []
    },
    {
      "cell_type": "code",
      "source": [
        "train_set,val_set,test_set = dataset.train_val_test_split(0.60,0.20,0.20)\n"
      ],
      "metadata": {
        "id": "FCMGMzdUSIFq"
      },
      "id": "FCMGMzdUSIFq",
      "execution_count": 25,
      "outputs": []
    },
    {
      "cell_type": "code",
      "source": [
        "train_loader = torch.utils.data.DataLoader(train_set,batch_size=1,shuffle=False)\n",
        "val_loader = torch.utils.data.DataLoader(val_set,batch_size=1,shuffle=False)\n",
        "test_loader = torch.utils.data.DataLoader(test_set,batch_size=1,shuffle=False)\n"
      ],
      "metadata": {
        "id": "u6do7B1UntrP"
      },
      "id": "u6do7B1UntrP",
      "execution_count": 26,
      "outputs": []
    },
    {
      "cell_type": "code",
      "source": [
        "for x,y in train_loader:\n",
        "  z = x.view(-1,1,len(x))\n",
        "  print(z.shape)\n",
        "  break"
      ],
      "metadata": {
        "colab": {
          "base_uri": "https://localhost:8080/"
        },
        "id": "7Rxr0bJrrRXm",
        "outputId": "e97a8401-4a88-4750-c180-8978896d9b4a"
      },
      "id": "7Rxr0bJrrRXm",
      "execution_count": 56,
      "outputs": [
        {
          "output_type": "stream",
          "name": "stdout",
          "text": [
            "torch.Size([14, 1, 1])\n"
          ]
        }
      ]
    },
    {
      "cell_type": "code",
      "execution_count": 121,
      "id": "deb871fd-c573-4434-9a87-f2470c3553a8",
      "metadata": {
        "id": "deb871fd-c573-4434-9a87-f2470c3553a8"
      },
      "outputs": [],
      "source": [
        "trainer = Trainer(model,train_loader,loss_fn,optimizer,val_loader,100)"
      ]
    },
    {
      "cell_type": "code",
      "source": [
        "trainer.train()"
      ],
      "metadata": {
        "colab": {
          "base_uri": "https://localhost:8080/"
        },
        "id": "aErD56mXqrtV",
        "outputId": "29d28853-6c66-4acc-e1dc-69f7075fa060"
      },
      "id": "aErD56mXqrtV",
      "execution_count": 122,
      "outputs": [
        {
          "output_type": "stream",
          "name": "stderr",
          "text": [
            "/usr/local/lib/python3.8/dist-packages/torch/nn/modules/loss.py:536: UserWarning: Using a target size (torch.Size([1, 1])) that is different to the input size (torch.Size([1])). This will likely lead to incorrect results due to broadcasting. Please ensure they have the same size.\n",
            "  return F.mse_loss(input, target, reduction=self.reduction)\n"
          ]
        },
        {
          "output_type": "stream",
          "name": "stdout",
          "text": [
            "Epoch: 0 loss: 0.2826170977423833 validation loss: 0.06789766592282831\n",
            "Epoch: 10 loss: 0.17757709629016713 validation loss: 0.05628883639265234\n",
            "Epoch: 20 loss: 0.08750792919397313 validation loss: 0.02197260465878968\n",
            "Epoch: 30 loss: 0.029442126750049966 validation loss: 0.008921600431349628\n",
            "Epoch: 40 loss: 0.01664440648287136 validation loss: 0.012380167472409742\n",
            "Epoch: 50 loss: 0.015350573003264322 validation loss: 0.014570247888973717\n",
            "Epoch: 60 loss: 0.015121628597799466 validation loss: 0.014995485281227705\n",
            "Epoch: 70 loss: 0.014977173369412889 validation loss: 0.014927047234047502\n",
            "Epoch: 80 loss: 0.01484652991502252 validation loss: 0.014751861916111953\n",
            "Epoch: 90 loss: 0.014722331570660475 validation loss: 0.014559208540680008\n"
          ]
        }
      ]
    },
    {
      "cell_type": "code",
      "source": [
        "def test(test_data):\n",
        "   model.eval()  \n",
        "   test_loss = 0.0\n",
        "   preds = []\n",
        "   with torch.no_grad():\n",
        "     for x,t in test_data:\n",
        "       pred = model(x)\n",
        "       loss = loss_fn(pred,t)\n",
        "       test_loss += loss.item()\n",
        "       preds.append(pred)\n",
        "     print(test_loss/len(test_data))\n",
        "   return preds"
      ],
      "metadata": {
        "id": "urWZ2n9o5leI"
      },
      "id": "urWZ2n9o5leI",
      "execution_count": 130,
      "outputs": []
    },
    {
      "cell_type": "code",
      "source": [
        "p = test(test_loader)"
      ],
      "metadata": {
        "colab": {
          "base_uri": "https://localhost:8080/"
        },
        "id": "yNgvhjtg6aNv",
        "outputId": "ff9b942c-66bc-4edb-8f4a-d27d5b9901cd"
      },
      "id": "yNgvhjtg6aNv",
      "execution_count": 131,
      "outputs": [
        {
          "output_type": "stream",
          "name": "stdout",
          "text": [
            "0.014367815271829714\n"
          ]
        },
        {
          "output_type": "stream",
          "name": "stderr",
          "text": [
            "/usr/local/lib/python3.8/dist-packages/torch/nn/modules/loss.py:536: UserWarning: Using a target size (torch.Size([1, 1])) that is different to the input size (torch.Size([1])). This will likely lead to incorrect results due to broadcasting. Please ensure they have the same size.\n",
            "  return F.mse_loss(input, target, reduction=self.reduction)\n"
          ]
        }
      ]
    },
    {
      "cell_type": "code",
      "source": [
        "p"
      ],
      "metadata": {
        "id": "RfWVEXhj7MTx"
      },
      "id": "RfWVEXhj7MTx",
      "execution_count": null,
      "outputs": []
    },
    {
      "cell_type": "code",
      "source": [
        "p_a = []\n",
        "for x in p:\n",
        "  p_a.append(dataset.scaler.scaler.inverse_transform(np.array(x.view(-1).cpu()).reshape(-1,1)))"
      ],
      "metadata": {
        "id": "9_vGU_So6hHG"
      },
      "id": "9_vGU_So6hHG",
      "execution_count": 134,
      "outputs": []
    },
    {
      "cell_type": "code",
      "source": [
        "p_a"
      ],
      "metadata": {
        "id": "CmKWfOPa7Fif"
      },
      "id": "CmKWfOPa7Fif",
      "execution_count": null,
      "outputs": []
    },
    {
      "cell_type": "code",
      "source": [
        "def predict(n_preds):\n",
        "  out = []\n",
        "  with torch.no_grad():\n",
        "    input_ten = dataset[-1][0]\n",
        "    for p in range(n_preds):\n",
        "      input_ten = input_ten[-14:].view(-1,14)\n",
        "      model.hidden = (torch.zeros(1,1,50,device=device),torch.zeros(1,1,50,device=device))\n",
        "      preds = model(input_ten)\n",
        "      input_ten = torch.cat((input_ten.view(-1),preds),0)\n",
        "      actual_pred = dataset.scaler.scaler.inverse_transform(np.array(preds.view(-1).cpu()).reshape(-1,1))\n",
        "      out.append(actual_pred)\n",
        "      print(actual_pred)\n",
        "  return out"
      ],
      "metadata": {
        "id": "hs1h3aNazWSR"
      },
      "id": "hs1h3aNazWSR",
      "execution_count": 192,
      "outputs": []
    },
    {
      "cell_type": "code",
      "source": [
        "actual = predict(10)"
      ],
      "metadata": {
        "colab": {
          "base_uri": "https://localhost:8080/"
        },
        "id": "hdM6Hp9p-Hdr",
        "outputId": "5610d799-32d4-4285-f589-a9850ed7e9e5"
      },
      "id": "hdM6Hp9p-Hdr",
      "execution_count": 193,
      "outputs": [
        {
          "output_type": "stream",
          "name": "stdout",
          "text": [
            "[[6849.079]]\n",
            "[[6839.248]]\n",
            "[[6828.948]]\n",
            "[[6818.4087]]\n",
            "[[6807.34]]\n",
            "[[6795.9424]]\n",
            "[[6784.39]]\n",
            "[[6772.6836]]\n",
            "[[6760.5444]]\n",
            "[[6748.071]]\n"
          ]
        }
      ]
    },
    {
      "cell_type": "code",
      "source": [
        "ap = [x.reshape(1)[0] for x in actual]\n",
        "ap\n"
      ],
      "metadata": {
        "colab": {
          "base_uri": "https://localhost:8080/"
        },
        "id": "SteFRv0GEF1o",
        "outputId": "4d309293-d093-45d1-860f-82ea7a63ff7e"
      },
      "id": "SteFRv0GEF1o",
      "execution_count": 202,
      "outputs": [
        {
          "output_type": "execute_result",
          "data": {
            "text/plain": [
              "[6849.079,\n",
              " 6839.248,\n",
              " 6828.948,\n",
              " 6818.4087,\n",
              " 6807.34,\n",
              " 6795.9424,\n",
              " 6784.39,\n",
              " 6772.6836,\n",
              " 6760.5444,\n",
              " 6748.071]"
            ]
          },
          "metadata": {},
          "execution_count": 202
        }
      ]
    },
    {
      "cell_type": "code",
      "source": [
        "df = pd.read_csv('/content/timeseries/ULTRACEMCO.NS.csv')"
      ],
      "metadata": {
        "id": "HzuMXzfyFUNh"
      },
      "id": "HzuMXzfyFUNh",
      "execution_count": 203,
      "outputs": []
    },
    {
      "cell_type": "code",
      "source": [
        "df2 = pd.DataFrame(pd.date_range('2022-11-17',periods=10).date)\n",
        "df2.columns = ['Date']\n",
        "df2['ap'] = ap"
      ],
      "metadata": {
        "id": "-E7lLYpkFc1g"
      },
      "id": "-E7lLYpkFc1g",
      "execution_count": 230,
      "outputs": []
    },
    {
      "cell_type": "code",
      "source": [
        "df3 = pd.concat([df,df2],axis=0)"
      ],
      "metadata": {
        "id": "DZa8-w8pIZ-y"
      },
      "id": "DZa8-w8pIZ-y",
      "execution_count": 231,
      "outputs": []
    },
    {
      "cell_type": "code",
      "source": [
        "df4 = df3[-30:]\n",
        "df4.shape"
      ],
      "metadata": {
        "colab": {
          "base_uri": "https://localhost:8080/"
        },
        "id": "SAX1oUf0JpuM",
        "outputId": "7d0aca74-e2e6-43c4-b17f-7b555d836fb8"
      },
      "id": "SAX1oUf0JpuM",
      "execution_count": 232,
      "outputs": [
        {
          "output_type": "execute_result",
          "data": {
            "text/plain": [
              "(30, 8)"
            ]
          },
          "metadata": {},
          "execution_count": 232
        }
      ]
    },
    {
      "cell_type": "code",
      "source": [
        "df4[-10:]"
      ],
      "metadata": {
        "colab": {
          "base_uri": "https://localhost:8080/",
          "height": 363
        },
        "id": "x7aCILUmLquA",
        "outputId": "1747922f-a714-4ab6-cb73-a90b64d20b4e"
      },
      "id": "x7aCILUmLquA",
      "execution_count": 240,
      "outputs": [
        {
          "output_type": "execute_result",
          "data": {
            "text/plain": [
              "         Date  Open  High  Low  Close  Adj Close  Volume           ap\n",
              "0  2022-11-17   NaN   NaN  NaN    NaN        NaN     NaN  6849.079102\n",
              "1  2022-11-18   NaN   NaN  NaN    NaN        NaN     NaN  6839.248047\n",
              "2  2022-11-19   NaN   NaN  NaN    NaN        NaN     NaN  6828.948242\n",
              "3  2022-11-20   NaN   NaN  NaN    NaN        NaN     NaN  6818.408691\n",
              "4  2022-11-21   NaN   NaN  NaN    NaN        NaN     NaN  6807.339844\n",
              "5  2022-11-22   NaN   NaN  NaN    NaN        NaN     NaN  6795.942383\n",
              "6  2022-11-23   NaN   NaN  NaN    NaN        NaN     NaN  6784.390137\n",
              "7  2022-11-24   NaN   NaN  NaN    NaN        NaN     NaN  6772.683594\n",
              "8  2022-11-25   NaN   NaN  NaN    NaN        NaN     NaN  6760.544434\n",
              "9  2022-11-26   NaN   NaN  NaN    NaN        NaN     NaN  6748.070801"
            ],
            "text/html": [
              "\n",
              "  <div id=\"df-7ed1921f-5a89-418d-8f02-f9fad351fdd4\">\n",
              "    <div class=\"colab-df-container\">\n",
              "      <div>\n",
              "<style scoped>\n",
              "    .dataframe tbody tr th:only-of-type {\n",
              "        vertical-align: middle;\n",
              "    }\n",
              "\n",
              "    .dataframe tbody tr th {\n",
              "        vertical-align: top;\n",
              "    }\n",
              "\n",
              "    .dataframe thead th {\n",
              "        text-align: right;\n",
              "    }\n",
              "</style>\n",
              "<table border=\"1\" class=\"dataframe\">\n",
              "  <thead>\n",
              "    <tr style=\"text-align: right;\">\n",
              "      <th></th>\n",
              "      <th>Date</th>\n",
              "      <th>Open</th>\n",
              "      <th>High</th>\n",
              "      <th>Low</th>\n",
              "      <th>Close</th>\n",
              "      <th>Adj Close</th>\n",
              "      <th>Volume</th>\n",
              "      <th>ap</th>\n",
              "    </tr>\n",
              "  </thead>\n",
              "  <tbody>\n",
              "    <tr>\n",
              "      <th>0</th>\n",
              "      <td>2022-11-17</td>\n",
              "      <td>NaN</td>\n",
              "      <td>NaN</td>\n",
              "      <td>NaN</td>\n",
              "      <td>NaN</td>\n",
              "      <td>NaN</td>\n",
              "      <td>NaN</td>\n",
              "      <td>6849.079102</td>\n",
              "    </tr>\n",
              "    <tr>\n",
              "      <th>1</th>\n",
              "      <td>2022-11-18</td>\n",
              "      <td>NaN</td>\n",
              "      <td>NaN</td>\n",
              "      <td>NaN</td>\n",
              "      <td>NaN</td>\n",
              "      <td>NaN</td>\n",
              "      <td>NaN</td>\n",
              "      <td>6839.248047</td>\n",
              "    </tr>\n",
              "    <tr>\n",
              "      <th>2</th>\n",
              "      <td>2022-11-19</td>\n",
              "      <td>NaN</td>\n",
              "      <td>NaN</td>\n",
              "      <td>NaN</td>\n",
              "      <td>NaN</td>\n",
              "      <td>NaN</td>\n",
              "      <td>NaN</td>\n",
              "      <td>6828.948242</td>\n",
              "    </tr>\n",
              "    <tr>\n",
              "      <th>3</th>\n",
              "      <td>2022-11-20</td>\n",
              "      <td>NaN</td>\n",
              "      <td>NaN</td>\n",
              "      <td>NaN</td>\n",
              "      <td>NaN</td>\n",
              "      <td>NaN</td>\n",
              "      <td>NaN</td>\n",
              "      <td>6818.408691</td>\n",
              "    </tr>\n",
              "    <tr>\n",
              "      <th>4</th>\n",
              "      <td>2022-11-21</td>\n",
              "      <td>NaN</td>\n",
              "      <td>NaN</td>\n",
              "      <td>NaN</td>\n",
              "      <td>NaN</td>\n",
              "      <td>NaN</td>\n",
              "      <td>NaN</td>\n",
              "      <td>6807.339844</td>\n",
              "    </tr>\n",
              "    <tr>\n",
              "      <th>5</th>\n",
              "      <td>2022-11-22</td>\n",
              "      <td>NaN</td>\n",
              "      <td>NaN</td>\n",
              "      <td>NaN</td>\n",
              "      <td>NaN</td>\n",
              "      <td>NaN</td>\n",
              "      <td>NaN</td>\n",
              "      <td>6795.942383</td>\n",
              "    </tr>\n",
              "    <tr>\n",
              "      <th>6</th>\n",
              "      <td>2022-11-23</td>\n",
              "      <td>NaN</td>\n",
              "      <td>NaN</td>\n",
              "      <td>NaN</td>\n",
              "      <td>NaN</td>\n",
              "      <td>NaN</td>\n",
              "      <td>NaN</td>\n",
              "      <td>6784.390137</td>\n",
              "    </tr>\n",
              "    <tr>\n",
              "      <th>7</th>\n",
              "      <td>2022-11-24</td>\n",
              "      <td>NaN</td>\n",
              "      <td>NaN</td>\n",
              "      <td>NaN</td>\n",
              "      <td>NaN</td>\n",
              "      <td>NaN</td>\n",
              "      <td>NaN</td>\n",
              "      <td>6772.683594</td>\n",
              "    </tr>\n",
              "    <tr>\n",
              "      <th>8</th>\n",
              "      <td>2022-11-25</td>\n",
              "      <td>NaN</td>\n",
              "      <td>NaN</td>\n",
              "      <td>NaN</td>\n",
              "      <td>NaN</td>\n",
              "      <td>NaN</td>\n",
              "      <td>NaN</td>\n",
              "      <td>6760.544434</td>\n",
              "    </tr>\n",
              "    <tr>\n",
              "      <th>9</th>\n",
              "      <td>2022-11-26</td>\n",
              "      <td>NaN</td>\n",
              "      <td>NaN</td>\n",
              "      <td>NaN</td>\n",
              "      <td>NaN</td>\n",
              "      <td>NaN</td>\n",
              "      <td>NaN</td>\n",
              "      <td>6748.070801</td>\n",
              "    </tr>\n",
              "  </tbody>\n",
              "</table>\n",
              "</div>\n",
              "      <button class=\"colab-df-convert\" onclick=\"convertToInteractive('df-7ed1921f-5a89-418d-8f02-f9fad351fdd4')\"\n",
              "              title=\"Convert this dataframe to an interactive table.\"\n",
              "              style=\"display:none;\">\n",
              "        \n",
              "  <svg xmlns=\"http://www.w3.org/2000/svg\" height=\"24px\"viewBox=\"0 0 24 24\"\n",
              "       width=\"24px\">\n",
              "    <path d=\"M0 0h24v24H0V0z\" fill=\"none\"/>\n",
              "    <path d=\"M18.56 5.44l.94 2.06.94-2.06 2.06-.94-2.06-.94-.94-2.06-.94 2.06-2.06.94zm-11 1L8.5 8.5l.94-2.06 2.06-.94-2.06-.94L8.5 2.5l-.94 2.06-2.06.94zm10 10l.94 2.06.94-2.06 2.06-.94-2.06-.94-.94-2.06-.94 2.06-2.06.94z\"/><path d=\"M17.41 7.96l-1.37-1.37c-.4-.4-.92-.59-1.43-.59-.52 0-1.04.2-1.43.59L10.3 9.45l-7.72 7.72c-.78.78-.78 2.05 0 2.83L4 21.41c.39.39.9.59 1.41.59.51 0 1.02-.2 1.41-.59l7.78-7.78 2.81-2.81c.8-.78.8-2.07 0-2.86zM5.41 20L4 18.59l7.72-7.72 1.47 1.35L5.41 20z\"/>\n",
              "  </svg>\n",
              "      </button>\n",
              "      \n",
              "  <style>\n",
              "    .colab-df-container {\n",
              "      display:flex;\n",
              "      flex-wrap:wrap;\n",
              "      gap: 12px;\n",
              "    }\n",
              "\n",
              "    .colab-df-convert {\n",
              "      background-color: #E8F0FE;\n",
              "      border: none;\n",
              "      border-radius: 50%;\n",
              "      cursor: pointer;\n",
              "      display: none;\n",
              "      fill: #1967D2;\n",
              "      height: 32px;\n",
              "      padding: 0 0 0 0;\n",
              "      width: 32px;\n",
              "    }\n",
              "\n",
              "    .colab-df-convert:hover {\n",
              "      background-color: #E2EBFA;\n",
              "      box-shadow: 0px 1px 2px rgba(60, 64, 67, 0.3), 0px 1px 3px 1px rgba(60, 64, 67, 0.15);\n",
              "      fill: #174EA6;\n",
              "    }\n",
              "\n",
              "    [theme=dark] .colab-df-convert {\n",
              "      background-color: #3B4455;\n",
              "      fill: #D2E3FC;\n",
              "    }\n",
              "\n",
              "    [theme=dark] .colab-df-convert:hover {\n",
              "      background-color: #434B5C;\n",
              "      box-shadow: 0px 1px 3px 1px rgba(0, 0, 0, 0.15);\n",
              "      filter: drop-shadow(0px 1px 2px rgba(0, 0, 0, 0.3));\n",
              "      fill: #FFFFFF;\n",
              "    }\n",
              "  </style>\n",
              "\n",
              "      <script>\n",
              "        const buttonEl =\n",
              "          document.querySelector('#df-7ed1921f-5a89-418d-8f02-f9fad351fdd4 button.colab-df-convert');\n",
              "        buttonEl.style.display =\n",
              "          google.colab.kernel.accessAllowed ? 'block' : 'none';\n",
              "\n",
              "        async function convertToInteractive(key) {\n",
              "          const element = document.querySelector('#df-7ed1921f-5a89-418d-8f02-f9fad351fdd4');\n",
              "          const dataTable =\n",
              "            await google.colab.kernel.invokeFunction('convertToInteractive',\n",
              "                                                     [key], {});\n",
              "          if (!dataTable) return;\n",
              "\n",
              "          const docLinkHtml = 'Like what you see? Visit the ' +\n",
              "            '<a target=\"_blank\" href=https://colab.research.google.com/notebooks/data_table.ipynb>data table notebook</a>'\n",
              "            + ' to learn more about interactive tables.';\n",
              "          element.innerHTML = '';\n",
              "          dataTable['output_type'] = 'display_data';\n",
              "          await google.colab.output.renderOutput(dataTable, element);\n",
              "          const docLink = document.createElement('div');\n",
              "          docLink.innerHTML = docLinkHtml;\n",
              "          element.appendChild(docLink);\n",
              "        }\n",
              "      </script>\n",
              "    </div>\n",
              "  </div>\n",
              "  "
            ]
          },
          "metadata": {},
          "execution_count": 240
        }
      ]
    },
    {
      "cell_type": "code",
      "execution_count": 233,
      "id": "e8efc599-eb9b-4652-8c06-2e50908202aa",
      "metadata": {
        "id": "e8efc599-eb9b-4652-8c06-2e50908202aa"
      },
      "outputs": [],
      "source": [
        "from matplotlib import pyplot as plt"
      ]
    },
    {
      "cell_type": "code",
      "source": [
        "plt.title('Stock Price')\n",
        "plt.ylabel('Price')\n",
        "plt.grid(True)\n",
        "\n",
        "plt.plot(df4['Date'].astype(str),df4['Close'])\n",
        "plt.plot(df4['Date'].astype(str),df4['ap'])\n",
        "plt.show()"
      ],
      "metadata": {
        "id": "CQOe4wV1_A8e",
        "colab": {
          "base_uri": "https://localhost:8080/",
          "height": 281
        },
        "outputId": "16945665-f237-4e36-907d-c6cbb25bd67f"
      },
      "id": "CQOe4wV1_A8e",
      "execution_count": 241,
      "outputs": [
        {
          "output_type": "display_data",
          "data": {
            "text/plain": [
              "<Figure size 432x288 with 1 Axes>"
            ],
            "image/png": "[encoded data removed]"
          },
          "metadata": {
            "needs_background": "light"
          }
        }
      ]
    },
    {
      "cell_type": "code",
      "source": [
        "!git clone https://github.com/riteshsv/timeseries.git"
      ],
      "metadata": {
        "colab": {
          "base_uri": "https://localhost:8080/"
        },
        "id": "EQuty_6tRcOc",
        "outputId": "37111333-55a5-4f5b-e480-7babc9a2b6d8"
      },
      "id": "EQuty_6tRcOc",
      "execution_count": 1,
      "outputs": [
        {
          "output_type": "stream",
          "name": "stdout",
          "text": [
            "Cloning into 'timeseries'...\n",
            "remote: Enumerating objects: 15, done.\u001b[K\n",
            "remote: Counting objects: 100% (15/15), done.\u001b[K\n",
            "remote: Compressing objects: 100% (13/13), done.\u001b[K\n",
            "remote: Total 15 (delta 4), reused 0 (delta 0), pack-reused 0\u001b[K\n",
            "Unpacking objects: 100% (15/15), done.\n"
          ]
        }
      ]
    },
    {
      "cell_type": "code",
      "source": [],
      "metadata": {
        "id": "82JHwMwCRwBm",
        "colab": {
          "base_uri": "https://localhost:8080/"
        },
        "outputId": "3a48346c-7a72-4871-8d16-b04024e051e6"
      },
      "id": "82JHwMwCRwBm",
      "execution_count": 123,
      "outputs": [
        {
          "output_type": "execute_result",
          "data": {
            "text/plain": [
              "0"
            ]
          },
          "metadata": {},
          "execution_count": 123
        }
      ]
    },
    {
      "cell_type": "markdown",
      "source": [
        "# New Section"
      ],
      "metadata": {
        "id": "edFuUr03Sxue"
      },
      "id": "edFuUr03Sxue"
    }
  ],
  "metadata": {
    "kernelspec": {
      "display_name": "Python 3 (ipykernel)",
      "language": "python",
      "name": "python3"
    },
    "language_info": {
      "codemirror_mode": {
        "name": "ipython",
        "version": 3
      },
      "file_extension": ".py",
      "mimetype": "text/x-python",
      "name": "python",
      "nbconvert_exporter": "python",
      "pygments_lexer": "ipython3",
      "version": "3.10.0"
    },
    "colab": {
      "provenance": []
    },
    "gpuClass": "standard"
  },
  "nbformat": 4,
  "nbformat_minor": 5
}