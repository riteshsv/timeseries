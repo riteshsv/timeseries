{
  "cells": [
    {
      "cell_type": "code",
      "source": [
        "# !git clone https://github.com/riteshsv/timeseries.git"
      ],
      "metadata": {
        "id": "EQuty_6tRcOc"
      },
      "id": "EQuty_6tRcOc",
      "execution_count": 3,
      "outputs": []
    },
    {
      "cell_type": "code",
      "execution_count": 4,
      "id": "755fecfc-c576-4eec-9323-d69736d5bc9b",
      "metadata": {
        "id": "755fecfc-c576-4eec-9323-d69736d5bc9b"
      },
      "outputs": [],
      "source": [
        "import numpy as np\n",
        "import os"
      ]
    },
    {
      "cell_type": "code",
      "execution_count": 5,
      "id": "f2d8d6f9-5f82-489d-a153-455a514e4ba2",
      "metadata": {
        "id": "f2d8d6f9-5f82-489d-a153-455a514e4ba2"
      },
      "outputs": [],
      "source": [
        "import pandas as pd"
      ]
    },
    {
      "cell_type": "code",
      "execution_count": 6,
      "id": "4005c140-8a13-4ff8-8872-220f5081fc77",
      "metadata": {
        "id": "4005c140-8a13-4ff8-8872-220f5081fc77"
      },
      "outputs": [],
      "source": [
        "import torch\n",
        "from torch import nn     \n",
        "import torch.nn.functional as F\n",
        "import torch.optim as optim\n",
        "from torch.utils.data import Dataset,DataLoader"
      ]
    },
    {
      "cell_type": "code",
      "execution_count": 7,
      "id": "6b62c6ca-fdbb-491d-8898-ab87ffe88541",
      "metadata": {
        "id": "6b62c6ca-fdbb-491d-8898-ab87ffe88541"
      },
      "outputs": [],
      "source": [
        "from sklearn.preprocessing import MinMaxScaler"
      ]
    },
    {
      "cell_type": "code",
      "execution_count": 8,
      "id": "74f07969-2fbd-43a5-b212-7f5fad592cbd",
      "metadata": {
        "id": "74f07969-2fbd-43a5-b212-7f5fad592cbd"
      },
      "outputs": [],
      "source": [
        "def preparedata_time_window(input_data,window):\n",
        "    out_data = []\n",
        "    # rearrange the input in form of output based on 3 observations in past\n",
        "    for i in range(len(input_data)):\n",
        "        if (i+window+1) <= len(input_data):\n",
        "            out_data.append((input_data[i:i+window],input_data[i+window:i+(window+1)]))\n",
        "            \n",
        "    return out_data"
      ]
    },
    {
      "cell_type": "code",
      "execution_count": 9,
      "id": "d1019051-4e51-4467-be8d-6866d8cc00fc",
      "metadata": {
        "id": "d1019051-4e51-4467-be8d-6866d8cc00fc"
      },
      "outputs": [],
      "source": [
        "class StandardizeInput():\n",
        "  def __init__(self):\n",
        "    self.scaler = MinMaxScaler(feature_range=(-1,1)) \n",
        "  def __call__(self,data):\n",
        "    return self.scaler.fit_transform(data)\n",
        "\n",
        "# scaler2 = MinMaxScaler(feature_range=(-1,1))\n",
        "# scaled_input2 = scaler2.fit_transform(data.reshape(-1,1))\n"
      ]
    },
    {
      "cell_type": "code",
      "source": [
        "class UnivariateTsDataset(Dataset):\n",
        "    \"\"\"Univariate time serices dataset.\"\"\"\n",
        "\n",
        "    def __init__(self, csv_file, target:str=None, transform=None, window=1,features:list=None,n_features=1,scaler=None):\n",
        "        \"\"\"\n",
        "        Args:\n",
        "            csv_file (string): Path to the csv file with annotations.\n",
        "            transform (callable, optional): Optional transform to be applied\n",
        "                on a sample.\n",
        "            window (integer): Number of time steps in the past\n",
        "            features (list) : list of features to be used, default is all features\n",
        "            n_features (integer) : number of features to be used. default is 1, min number of features required\n",
        "        \"\"\"\n",
        "        self.transform = transform\n",
        "        self.target = target\n",
        "        self.window = window\n",
        "        self.features = features\n",
        "        self.scaler=scaler\n",
        "        if len(self.features) > 0:\n",
        "          self.n_features = len(self.features)\n",
        "        else:\n",
        "          self.n_features = n_features\n",
        "        self.rawdata = pd.read_csv(csv_file)\n",
        "        self.data = self.preprocess(self.rawdata)\n",
        "        \n",
        "    \n",
        "    def preprocess(self,input_df):\n",
        "      if self.features != None:\n",
        "        input_data = input_df[self.features]\n",
        "      else:\n",
        "        input_data = input_df\n",
        "      # scaling\n",
        "      if self.scaler != None:\n",
        "        input_data = self.scaler(input_data)\n",
        "      # convert to tensors\n",
        "      input_data_tensor = torch.tensor(input_data,dtype=torch.float32,device=device).view(-1)\n",
        "      out_data = []\n",
        "      # rearrange the input in form of output based on 3 observations in past\n",
        "      for i in range(len(input_data_tensor)):\n",
        "        if (i+self.window+1) <= len(input_data_tensor):\n",
        "          out_data.append((input_data_tensor[i:i+self.window],input_data_tensor[i+self.window:i+(self.window+1)]))\n",
        "            \n",
        "      return out_data\n",
        "    \n",
        "    def train_val_test_split(self,train_size=0.8,test_size=.20,val_size=0.0):\n",
        "      train_len = int(train_size*len(self.data))\n",
        "      train_set = torch.utils.data.Subset(self,np.arange(train_len))\n",
        "      val_len = int(len(self.data)*val_size)\n",
        "      if val_size > 0:\n",
        "        val_set = torch.utils.data.Subset(self,np.arange(train_len,(train_len+val_len)))\n",
        "      test_set = torch.utils.data.Subset(self,np.arange((train_len+val_len),len(self.data)))\n",
        "      if val_size > 0:\n",
        "        return train_set,val_set,test_set\n",
        "      return train_set,test_set\n",
        "\n",
        "    def __len__(self):\n",
        "        return len(self.data)\n",
        "\n",
        "    def __getitem__(self, idx):\n",
        "        if torch.is_tensor(idx):\n",
        "            idx = idx.tolist()\n",
        "\n",
        "        sample = self.data[idx]\n",
        "\n",
        "        return sample"
      ],
      "metadata": {
        "id": "GOEB_I37dfCC"
      },
      "id": "GOEB_I37dfCC",
      "execution_count": 10,
      "outputs": []
    },
    {
      "cell_type": "code",
      "execution_count": 11,
      "id": "d3c1ae80-0e25-4477-871d-0dd3a80c6f97",
      "metadata": {
        "id": "d3c1ae80-0e25-4477-871d-0dd3a80c6f97"
      },
      "outputs": [],
      "source": [
        "class LSTMSimple(nn.Module):\n",
        "    def __init__(self, input_dim,hidden_dim,out_size,num_layers=1,batch_size=1,device=None):\n",
        "        super(LSTMSimple,self).__init__()\n",
        "        self.batch_size = batch_size\n",
        "        self.lstm = nn.LSTM(input_dim, hidden_dim,num_layers=num_layers)\n",
        "        self.out = nn.Linear(hidden_dim,out_size)\n",
        "        self.hidden_dim = hidden_dim\n",
        "        self.n_layers = num_layers\n",
        "        if device == None:\n",
        "          if torch.cuda.is_available():\n",
        "            self.device = torch.device('cuda')\n",
        "          else:\n",
        "            self.device = torch.device('cpu')\n",
        "        else:\n",
        "          self.device = device\n",
        "        self.hidden = (torch.zeros(1*self.n_layers,self.batch_size,self.hidden_dim,device=self.device),torch.zeros(1*self.n_layers,self.batch_size,self.hidden_dim,device=self.device))\n",
        "    def forward(self,x):\n",
        "      self.hidden = (torch.zeros(1*self.n_layers,self.batch_size,self.hidden_dim,device=self.device),torch.zeros(1*self.n_layers,self.batch_size,self.hidden_dim,device=self.device))\n",
        "      out,self.hidden = self.lstm(x.view(len(x[1]),self.batch_size,-1),self.hidden)\n",
        "      preds = self.out(out[-1])\n",
        "      return preds[0]\n",
        "    def predict(self,n_preds,past_val,batch_size=1):\n",
        "      out = []\n",
        "      with torch.no_grad():\n",
        "        input_ten = torch.tensor(past_val,dtype=torch.float32,device=self.device)\n",
        "        self.eval()\n",
        "        for p in range(n_preds):\n",
        "          input_ten = input_ten[-len(past_val):].view(-1,len(past_val))\n",
        "          self.hidden = (torch.zeros(1*self.n_layers,batch_size,self.hidden_dim,device=self.device),\n",
        "                         torch.zeros(1*self.n_layers,batch_size,self.hidden_dim,device=self.device))\n",
        "          preds = model(input_ten)\n",
        "          input_ten = torch.cat((input_ten.view(-1),preds),0)\n",
        "          out.append(preds)\n",
        "      return out\n",
        "    # def predict(n_preds,input_ten):\n",
        "    #   out = []\n",
        "    #   with torch.no_grad():\n",
        "    #     for p in range(n_preds):\n",
        "    #       input_ten = input_ten[-6:].view(-1,6)\n",
        "    #       # model.hidden = (torch.zeros(2,1,64,device=device),torch.zeros(2,1,50,device=device))\n",
        "    #       preds = model(input_ten)\n",
        "    #       input_ten = torch.cat((input_ten.view(-1),preds),0)\n",
        "    #       actual_pred = dataset.scaler.scaler.inverse_transform(np.array(preds.view(-1).cpu()).reshape(-1,1))\n",
        "    #       out.append(actual_pred)\n",
        "    #   print(actual_pred)\n",
        "    #   return out"
      ]
    },
    {
      "cell_type": "code",
      "source": [
        "class Trainer():\n",
        "  def __init__(self,model,train_data,loss_fn,optimizer,val_data=None,epochs=1):\n",
        "    self.model = model\n",
        "    self.epochs = epochs\n",
        "    self.train_data = train_data\n",
        "    self.val_data = val_data\n",
        "    self.loss_fn = loss_fn\n",
        "    self.optimizer = optimizer\n",
        "    self.predictions = []\n",
        "  def train(self):\n",
        "    for epoch in range(self.epochs):\n",
        "      self.model.train()\n",
        "      train_loss = 0.0  \n",
        "      for x,t in self.train_data:\n",
        "        self.model.zero_grad()\n",
        "        preds = model(x)\n",
        "        self.predictions.append(preds)\n",
        "        loss = self.loss_fn(preds,t)\n",
        "        loss.backward()\n",
        "        self.optimizer.step()\n",
        "        train_loss += loss.item()\n",
        "      train_loss = train_loss/len(self.train_data)\n",
        "      if self.val_data != None:\n",
        "        val_loss = self.__validation()\n",
        "      if (epoch+1)%10 == 0:\n",
        "        print(f\"Epoch: {epoch+1} loss: {train_loss} validation loss: {val_loss}\")\n",
        "  def __validation(self):\n",
        "    self.model.eval()  \n",
        "    val_loss = 0.0\n",
        "    with torch.no_grad():\n",
        "      for x,t in self.val_data:\n",
        "        preds = self.model(x)\n",
        "        self.predictions.append(preds)\n",
        "        loss = self.loss_fn(preds,t)\n",
        "        val_loss += loss.item()\n",
        "    return val_loss/len(self.val_data)"
      ],
      "metadata": {
        "id": "tpam40OcuPVq"
      },
      "id": "tpam40OcuPVq",
      "execution_count": 12,
      "outputs": []
    },
    {
      "cell_type": "code",
      "source": [
        "if torch.cuda.is_available():\n",
        "    device = torch.device('cuda')\n",
        "else:\n",
        "    device = torch.device('cpu')\n",
        "print(device)\n",
        "print(type(device))"
      ],
      "metadata": {
        "id": "vAbY37XExMlf",
        "colab": {
          "base_uri": "https://localhost:8080/"
        },
        "outputId": "e354183f-1122-47a5-9818-cce2ada80805"
      },
      "id": "vAbY37XExMlf",
      "execution_count": 13,
      "outputs": [
        {
          "output_type": "stream",
          "name": "stdout",
          "text": [
            "cuda\n",
            "<class 'torch.device'>\n"
          ]
        }
      ]
    },
    {
      "cell_type": "code",
      "source": [
        "dataset = UnivariateTsDataset('/content/timeseries/ULTRACEMCO.NS.csv',window=6,features=['Close'],n_features=1,scaler=StandardizeInput())"
      ],
      "metadata": {
        "id": "9TeYXNf2PgXc"
      },
      "id": "9TeYXNf2PgXc",
      "execution_count": 14,
      "outputs": []
    },
    {
      "cell_type": "code",
      "source": [
        "train_set,val_set,test_set = dataset.train_val_test_split(0.60,0.20,0.20)\n"
      ],
      "metadata": {
        "id": "FCMGMzdUSIFq"
      },
      "id": "FCMGMzdUSIFq",
      "execution_count": 15,
      "outputs": []
    },
    {
      "cell_type": "code",
      "source": [
        "batch_size = 4\n",
        "train_loader = torch.utils.data.DataLoader(train_set,batch_size=batch_size,shuffle=False,drop_last=True)\n",
        "val_loader = torch.utils.data.DataLoader(val_set,batch_size=batch_size,shuffle=False,drop_last=True)\n",
        "test_loader = torch.utils.data.DataLoader(test_set,batch_size=batch_size,shuffle=False,drop_last=True)\n"
      ],
      "metadata": {
        "id": "u6do7B1UntrP"
      },
      "id": "u6do7B1UntrP",
      "execution_count": 16,
      "outputs": []
    },
    {
      "cell_type": "code",
      "source": [
        "for x,y in train_loader:\n",
        "  print(x.shape)\n",
        "  print(x.view(len(x[1]),4,-1).size(-1))\n",
        "  print(x.view(len(x[1]),4,-1).shape)"
      ],
      "metadata": {
        "colab": {
          "base_uri": "https://localhost:8080/"
        },
        "id": "i0-cLI-ukP0C",
        "outputId": "8fa06eba-7ca5-4e05-822c-b0d5cb4d9866"
      },
      "id": "i0-cLI-ukP0C",
      "execution_count": 17,
      "outputs": [
        {
          "output_type": "stream",
          "name": "stdout",
          "text": [
            "torch.Size([4, 6])\n",
            "1\n",
            "torch.Size([6, 4, 1])\n",
            "torch.Size([4, 6])\n",
            "1\n",
            "torch.Size([6, 4, 1])\n",
            "torch.Size([4, 6])\n",
            "1\n",
            "torch.Size([6, 4, 1])\n",
            "torch.Size([4, 6])\n",
            "1\n",
            "torch.Size([6, 4, 1])\n",
            "torch.Size([4, 6])\n",
            "1\n",
            "torch.Size([6, 4, 1])\n",
            "torch.Size([4, 6])\n",
            "1\n",
            "torch.Size([6, 4, 1])\n",
            "torch.Size([4, 6])\n",
            "1\n",
            "torch.Size([6, 4, 1])\n",
            "torch.Size([4, 6])\n",
            "1\n",
            "torch.Size([6, 4, 1])\n",
            "torch.Size([4, 6])\n",
            "1\n",
            "torch.Size([6, 4, 1])\n",
            "torch.Size([4, 6])\n",
            "1\n",
            "torch.Size([6, 4, 1])\n",
            "torch.Size([4, 6])\n",
            "1\n",
            "torch.Size([6, 4, 1])\n",
            "torch.Size([4, 6])\n",
            "1\n",
            "torch.Size([6, 4, 1])\n",
            "torch.Size([4, 6])\n",
            "1\n",
            "torch.Size([6, 4, 1])\n",
            "torch.Size([4, 6])\n",
            "1\n",
            "torch.Size([6, 4, 1])\n",
            "torch.Size([4, 6])\n",
            "1\n",
            "torch.Size([6, 4, 1])\n",
            "torch.Size([4, 6])\n",
            "1\n",
            "torch.Size([6, 4, 1])\n",
            "torch.Size([4, 6])\n",
            "1\n",
            "torch.Size([6, 4, 1])\n",
            "torch.Size([4, 6])\n",
            "1\n",
            "torch.Size([6, 4, 1])\n",
            "torch.Size([4, 6])\n",
            "1\n",
            "torch.Size([6, 4, 1])\n",
            "torch.Size([4, 6])\n",
            "1\n",
            "torch.Size([6, 4, 1])\n",
            "torch.Size([4, 6])\n",
            "1\n",
            "torch.Size([6, 4, 1])\n",
            "torch.Size([4, 6])\n",
            "1\n",
            "torch.Size([6, 4, 1])\n",
            "torch.Size([4, 6])\n",
            "1\n",
            "torch.Size([6, 4, 1])\n",
            "torch.Size([4, 6])\n",
            "1\n",
            "torch.Size([6, 4, 1])\n",
            "torch.Size([4, 6])\n",
            "1\n",
            "torch.Size([6, 4, 1])\n",
            "torch.Size([4, 6])\n",
            "1\n",
            "torch.Size([6, 4, 1])\n",
            "torch.Size([4, 6])\n",
            "1\n",
            "torch.Size([6, 4, 1])\n",
            "torch.Size([4, 6])\n",
            "1\n",
            "torch.Size([6, 4, 1])\n",
            "torch.Size([4, 6])\n",
            "1\n",
            "torch.Size([6, 4, 1])\n",
            "torch.Size([4, 6])\n",
            "1\n",
            "torch.Size([6, 4, 1])\n",
            "torch.Size([4, 6])\n",
            "1\n",
            "torch.Size([6, 4, 1])\n",
            "torch.Size([4, 6])\n",
            "1\n",
            "torch.Size([6, 4, 1])\n",
            "torch.Size([4, 6])\n",
            "1\n",
            "torch.Size([6, 4, 1])\n",
            "torch.Size([4, 6])\n",
            "1\n",
            "torch.Size([6, 4, 1])\n",
            "torch.Size([4, 6])\n",
            "1\n",
            "torch.Size([6, 4, 1])\n",
            "torch.Size([4, 6])\n",
            "1\n",
            "torch.Size([6, 4, 1])\n"
          ]
        }
      ]
    },
    {
      "cell_type": "code",
      "source": [
        "df = pd.read_csv('/content/timeseries/ULTRACEMCO.NS.csv')\n",
        "# df.columns=['sales']\n"
      ],
      "metadata": {
        "id": "AZImQOB5yuyk"
      },
      "id": "AZImQOB5yuyk",
      "execution_count": 18,
      "outputs": []
    },
    {
      "cell_type": "markdown",
      "source": [],
      "metadata": {
        "id": "8W81zdIFiiXr"
      },
      "id": "8W81zdIFiiXr"
    },
    {
      "cell_type": "code",
      "execution_count": 19,
      "id": "142c5343-8ee7-4b79-bee6-2b0baa2b9a09",
      "metadata": {
        "id": "142c5343-8ee7-4b79-bee6-2b0baa2b9a09",
        "outputId": "35fe63ec-2083-4d44-b7a5-d6838b3068f6",
        "colab": {
          "base_uri": "https://localhost:8080/"
        }
      },
      "outputs": [
        {
          "output_type": "execute_result",
          "data": {
            "text/plain": [
              "LSTMSimple(\n",
              "  (lstm): LSTM(1, 128, num_layers=6)\n",
              "  (out): Linear(in_features=128, out_features=1, bias=True)\n",
              ")"
            ]
          },
          "metadata": {},
          "execution_count": 19
        }
      ],
      "source": [
        "model = LSTMSimple(1,128,1,num_layers=6,batch_size=batch_size,device=device)\n",
        "model.to(device)"
      ]
    },
    {
      "cell_type": "code",
      "execution_count": 20,
      "id": "c3da36b6-7009-4191-bc9c-db00c227987d",
      "metadata": {
        "id": "c3da36b6-7009-4191-bc9c-db00c227987d"
      },
      "outputs": [],
      "source": [
        "loss_fn = nn.MSELoss()\n",
        "optimizer = optim.Adam(model.parameters(),lr=0.0001)\n"
      ]
    },
    {
      "cell_type": "markdown",
      "source": [
        "Perform a train test split"
      ],
      "metadata": {
        "id": "6AZ_jT8vccRX"
      },
      "id": "6AZ_jT8vccRX"
    },
    {
      "cell_type": "code",
      "execution_count": 21,
      "id": "deb871fd-c573-4434-9a87-f2470c3553a8",
      "metadata": {
        "id": "deb871fd-c573-4434-9a87-f2470c3553a8"
      },
      "outputs": [],
      "source": [
        "trainer = Trainer(model,train_loader,loss_fn,optimizer,val_loader,200)"
      ]
    },
    {
      "cell_type": "code",
      "source": [
        "trainer.train()"
      ],
      "metadata": {
        "colab": {
          "base_uri": "https://localhost:8080/"
        },
        "id": "aErD56mXqrtV",
        "outputId": "e806336d-a73a-4f8a-88f0-01ec55b11206"
      },
      "id": "aErD56mXqrtV",
      "execution_count": 22,
      "outputs": [
        {
          "output_type": "stream",
          "name": "stderr",
          "text": [
            "/usr/local/lib/python3.8/dist-packages/torch/nn/modules/loss.py:536: UserWarning: Using a target size (torch.Size([4, 1])) that is different to the input size (torch.Size([1])). This will likely lead to incorrect results due to broadcasting. Please ensure they have the same size.\n",
            "  return F.mse_loss(input, target, reduction=self.reduction)\n"
          ]
        },
        {
          "output_type": "stream",
          "name": "stdout",
          "text": [
            "Epoch: 10 loss: 0.08853899219280316 validation loss: 0.0783866176304097\n",
            "Epoch: 20 loss: 0.05149039645524075 validation loss: 0.03430838935795085\n",
            "Epoch: 30 loss: 0.045953372286425695 validation loss: 0.03298376134262071\n",
            "Epoch: 40 loss: 0.04290335866648497 validation loss: 0.0338443632790586\n",
            "Epoch: 50 loss: 0.04076496701196043 validation loss: 0.035150654352037236\n",
            "Epoch: 60 loss: 0.03905192628088924 validation loss: 0.03636427804303821\n",
            "Epoch: 70 loss: 0.0375816498676108 validation loss: 0.03732974639569875\n",
            "Epoch: 80 loss: 0.03627792214845411 validation loss: 0.038000022914881505\n",
            "Epoch: 90 loss: 0.03510630659164033 validation loss: 0.03836644286881589\n",
            "Epoch: 100 loss: 0.034043394090581894 validation loss: 0.038431113986007404\n",
            "Epoch: 110 loss: 0.03306102777262115 validation loss: 0.038195243916561594\n",
            "Epoch: 120 loss: 0.03211977861550016 validation loss: 0.037656294927728595\n",
            "Epoch: 130 loss: 0.03116582024247489 validation loss: 0.03680487246310804\n",
            "Epoch: 140 loss: 0.030124747472453035 validation loss: 0.03561602740713473\n",
            "Epoch: 150 loss: 0.02888870066575085 validation loss: 0.034031879370256014\n",
            "Epoch: 160 loss: 0.02730270224209461 validation loss: 0.03193797344526198\n",
            "Epoch: 170 loss: 0.025370243047493406 validation loss: 0.02926182973169489\n",
            "Epoch: 180 loss: 0.023273015855617512 validation loss: 0.02637383145580922\n",
            "Epoch: 190 loss: 0.02064416628693127 validation loss: 0.023085416508062433\n",
            "Epoch: 200 loss: 0.01804474809776164 validation loss: 0.01923525092812876\n"
          ]
        }
      ]
    },
    {
      "cell_type": "code",
      "source": [
        "def test(test_data):\n",
        "   model.eval()  \n",
        "   test_loss = 0.0\n",
        "   preds = []\n",
        "   with torch.no_grad():\n",
        "     for x,t in test_data:\n",
        "       pred = model(x)\n",
        "       loss = loss_fn(pred,t)\n",
        "       test_loss += loss.item()\n",
        "       preds.append(pred)\n",
        "     print(test_loss/len(test_data))\n",
        "   return preds"
      ],
      "metadata": {
        "id": "urWZ2n9o5leI"
      },
      "id": "urWZ2n9o5leI",
      "execution_count": 23,
      "outputs": []
    },
    {
      "cell_type": "code",
      "source": [
        "p = test(test_loader)"
      ],
      "metadata": {
        "colab": {
          "base_uri": "https://localhost:8080/"
        },
        "id": "yNgvhjtg6aNv",
        "outputId": "cf16aac8-4235-47e9-ca46-80b4aac8eaab"
      },
      "id": "yNgvhjtg6aNv",
      "execution_count": 24,
      "outputs": [
        {
          "output_type": "stream",
          "name": "stdout",
          "text": [
            "0.01905136412824504\n"
          ]
        }
      ]
    },
    {
      "cell_type": "code",
      "source": [
        "p_a = []\n",
        "for x in p:\n",
        "  p_a.append(dataset.scaler.scaler.inverse_transform(np.array(x.view(-1).cpu()).reshape(-1,1)))"
      ],
      "metadata": {
        "id": "9_vGU_So6hHG"
      },
      "id": "9_vGU_So6hHG",
      "execution_count": 25,
      "outputs": []
    },
    {
      "cell_type": "code",
      "source": [
        "def predict(n_preds,past_val):\n",
        "  out = []\n",
        "  with torch.no_grad():\n",
        "    input_ten = torch.tensor(past_val,dtype=torch.float32,device=device)\n",
        "    model.eval()\n",
        "    for p in range(n_preds):\n",
        "      input_ten = input_ten[-len(past_val):].view(-1,len(past_val))\n",
        "      # model.hidden = (torch.zeros(2,1,64,device=device),torch.zeros(2,1,50,device=device))\n",
        "      preds = model(input_ten)\n",
        "      input_ten = torch.cat((input_ten.view(-1),preds),0)\n",
        "      actual_pred = dataset.scaler.scaler.inverse_transform(np.array(preds.view(-1).cpu()).reshape(-1,1))\n",
        "      out.append(actual_pred)\n",
        "      print(actual_pred)\n",
        "  return out"
      ],
      "metadata": {
        "id": "hs1h3aNazWSR"
      },
      "id": "hs1h3aNazWSR",
      "execution_count": 26,
      "outputs": []
    },
    {
      "cell_type": "code",
      "source": [
        "actual = predict(10,dataset.rawdata['Close'].iloc[-10:].to_numpy().reshape(1,-1))"
      ],
      "metadata": {
        "colab": {
          "base_uri": "https://localhost:8080/",
          "height": 348
        },
        "id": "hdM6Hp9p-Hdr",
        "outputId": "46e3e6f4-38e3-41ee-ce37-2866849af27b"
      },
      "id": "hdM6Hp9p-Hdr",
      "execution_count": 32,
      "outputs": [
        {
          "output_type": "error",
          "ename": "RuntimeError",
          "evalue": "ignored",
          "traceback": [
            "\u001b[0;31m---------------------------------------------------------------------------\u001b[0m",
            "\u001b[0;31mRuntimeError\u001b[0m                              Traceback (most recent call last)",
            "\u001b[0;32m<ipython-input-32-c7e567e5ff6a>\u001b[0m in \u001b[0;36m<module>\u001b[0;34m\u001b[0m\n\u001b[0;32m----> 1\u001b[0;31m \u001b[0mactual\u001b[0m \u001b[0;34m=\u001b[0m \u001b[0mpredict\u001b[0m\u001b[0;34m(\u001b[0m\u001b[0;36m10\u001b[0m\u001b[0;34m,\u001b[0m\u001b[0mdataset\u001b[0m\u001b[0;34m.\u001b[0m\u001b[0mrawdata\u001b[0m\u001b[0;34m[\u001b[0m\u001b[0;34m'Close'\u001b[0m\u001b[0;34m]\u001b[0m\u001b[0;34m.\u001b[0m\u001b[0miloc\u001b[0m\u001b[0;34m[\u001b[0m\u001b[0;34m-\u001b[0m\u001b[0;36m10\u001b[0m\u001b[0;34m:\u001b[0m\u001b[0;34m]\u001b[0m\u001b[0;34m.\u001b[0m\u001b[0mto_numpy\u001b[0m\u001b[0;34m(\u001b[0m\u001b[0;34m)\u001b[0m\u001b[0;34m.\u001b[0m\u001b[0mreshape\u001b[0m\u001b[0;34m(\u001b[0m\u001b[0;36m1\u001b[0m\u001b[0;34m,\u001b[0m\u001b[0;34m-\u001b[0m\u001b[0;36m1\u001b[0m\u001b[0;34m)\u001b[0m\u001b[0;34m)\u001b[0m\u001b[0;34m\u001b[0m\u001b[0;34m\u001b[0m\u001b[0m\n\u001b[0m",
            "\u001b[0;32m<ipython-input-26-b53128be1c78>\u001b[0m in \u001b[0;36mpredict\u001b[0;34m(n_preds, past_val)\u001b[0m\n\u001b[1;32m      7\u001b[0m       \u001b[0minput_ten\u001b[0m \u001b[0;34m=\u001b[0m \u001b[0minput_ten\u001b[0m\u001b[0;34m[\u001b[0m\u001b[0;34m-\u001b[0m\u001b[0mlen\u001b[0m\u001b[0;34m(\u001b[0m\u001b[0mpast_val\u001b[0m\u001b[0;34m)\u001b[0m\u001b[0;34m:\u001b[0m\u001b[0;34m]\u001b[0m\u001b[0;34m.\u001b[0m\u001b[0mview\u001b[0m\u001b[0;34m(\u001b[0m\u001b[0;34m-\u001b[0m\u001b[0;36m1\u001b[0m\u001b[0;34m,\u001b[0m\u001b[0mlen\u001b[0m\u001b[0;34m(\u001b[0m\u001b[0mpast_val\u001b[0m\u001b[0;34m)\u001b[0m\u001b[0;34m)\u001b[0m\u001b[0;34m\u001b[0m\u001b[0;34m\u001b[0m\u001b[0m\n\u001b[1;32m      8\u001b[0m       \u001b[0;31m# model.hidden = (torch.zeros(2,1,64,device=device),torch.zeros(2,1,50,device=device))\u001b[0m\u001b[0;34m\u001b[0m\u001b[0;34m\u001b[0m\u001b[0;34m\u001b[0m\u001b[0m\n\u001b[0;32m----> 9\u001b[0;31m       \u001b[0mpreds\u001b[0m \u001b[0;34m=\u001b[0m \u001b[0mmodel\u001b[0m\u001b[0;34m(\u001b[0m\u001b[0minput_ten\u001b[0m\u001b[0;34m)\u001b[0m\u001b[0;34m\u001b[0m\u001b[0;34m\u001b[0m\u001b[0m\n\u001b[0m\u001b[1;32m     10\u001b[0m       \u001b[0minput_ten\u001b[0m \u001b[0;34m=\u001b[0m \u001b[0mtorch\u001b[0m\u001b[0;34m.\u001b[0m\u001b[0mcat\u001b[0m\u001b[0;34m(\u001b[0m\u001b[0;34m(\u001b[0m\u001b[0minput_ten\u001b[0m\u001b[0;34m.\u001b[0m\u001b[0mview\u001b[0m\u001b[0;34m(\u001b[0m\u001b[0;34m-\u001b[0m\u001b[0;36m1\u001b[0m\u001b[0;34m)\u001b[0m\u001b[0;34m,\u001b[0m\u001b[0mpreds\u001b[0m\u001b[0;34m)\u001b[0m\u001b[0;34m,\u001b[0m\u001b[0;36m0\u001b[0m\u001b[0;34m)\u001b[0m\u001b[0;34m\u001b[0m\u001b[0;34m\u001b[0m\u001b[0m\n\u001b[1;32m     11\u001b[0m       \u001b[0mactual_pred\u001b[0m \u001b[0;34m=\u001b[0m \u001b[0mdataset\u001b[0m\u001b[0;34m.\u001b[0m\u001b[0mscaler\u001b[0m\u001b[0;34m.\u001b[0m\u001b[0mscaler\u001b[0m\u001b[0;34m.\u001b[0m\u001b[0minverse_transform\u001b[0m\u001b[0;34m(\u001b[0m\u001b[0mnp\u001b[0m\u001b[0;34m.\u001b[0m\u001b[0marray\u001b[0m\u001b[0;34m(\u001b[0m\u001b[0mpreds\u001b[0m\u001b[0;34m.\u001b[0m\u001b[0mview\u001b[0m\u001b[0;34m(\u001b[0m\u001b[0;34m-\u001b[0m\u001b[0;36m1\u001b[0m\u001b[0;34m)\u001b[0m\u001b[0;34m.\u001b[0m\u001b[0mcpu\u001b[0m\u001b[0;34m(\u001b[0m\u001b[0;34m)\u001b[0m\u001b[0;34m)\u001b[0m\u001b[0;34m.\u001b[0m\u001b[0mreshape\u001b[0m\u001b[0;34m(\u001b[0m\u001b[0;34m-\u001b[0m\u001b[0;36m1\u001b[0m\u001b[0;34m,\u001b[0m\u001b[0;36m1\u001b[0m\u001b[0;34m)\u001b[0m\u001b[0;34m)\u001b[0m\u001b[0;34m\u001b[0m\u001b[0;34m\u001b[0m\u001b[0m\n",
            "\u001b[0;32m/usr/local/lib/python3.8/dist-packages/torch/nn/modules/module.py\u001b[0m in \u001b[0;36m_call_impl\u001b[0;34m(self, *input, **kwargs)\u001b[0m\n\u001b[1;32m   1188\u001b[0m         if not (self._backward_hooks or self._forward_hooks or self._forward_pre_hooks or _global_backward_hooks\n\u001b[1;32m   1189\u001b[0m                 or _global_forward_hooks or _global_forward_pre_hooks):\n\u001b[0;32m-> 1190\u001b[0;31m             \u001b[0;32mreturn\u001b[0m \u001b[0mforward_call\u001b[0m\u001b[0;34m(\u001b[0m\u001b[0;34m*\u001b[0m\u001b[0minput\u001b[0m\u001b[0;34m,\u001b[0m \u001b[0;34m**\u001b[0m\u001b[0mkwargs\u001b[0m\u001b[0;34m)\u001b[0m\u001b[0;34m\u001b[0m\u001b[0;34m\u001b[0m\u001b[0m\n\u001b[0m\u001b[1;32m   1191\u001b[0m         \u001b[0;31m# Do not call functions when jit is used\u001b[0m\u001b[0;34m\u001b[0m\u001b[0;34m\u001b[0m\u001b[0;34m\u001b[0m\u001b[0m\n\u001b[1;32m   1192\u001b[0m         \u001b[0mfull_backward_hooks\u001b[0m\u001b[0;34m,\u001b[0m \u001b[0mnon_full_backward_hooks\u001b[0m \u001b[0;34m=\u001b[0m \u001b[0;34m[\u001b[0m\u001b[0;34m]\u001b[0m\u001b[0;34m,\u001b[0m \u001b[0;34m[\u001b[0m\u001b[0;34m]\u001b[0m\u001b[0;34m\u001b[0m\u001b[0;34m\u001b[0m\u001b[0m\n",
            "\u001b[0;32m<ipython-input-11-27cd11a94536>\u001b[0m in \u001b[0;36mforward\u001b[0;34m(self, x)\u001b[0m\n\u001b[1;32m     17\u001b[0m     \u001b[0;32mdef\u001b[0m \u001b[0mforward\u001b[0m\u001b[0;34m(\u001b[0m\u001b[0mself\u001b[0m\u001b[0;34m,\u001b[0m\u001b[0mx\u001b[0m\u001b[0;34m)\u001b[0m\u001b[0;34m:\u001b[0m\u001b[0;34m\u001b[0m\u001b[0;34m\u001b[0m\u001b[0m\n\u001b[1;32m     18\u001b[0m       \u001b[0mself\u001b[0m\u001b[0;34m.\u001b[0m\u001b[0mhidden\u001b[0m \u001b[0;34m=\u001b[0m \u001b[0;34m(\u001b[0m\u001b[0mtorch\u001b[0m\u001b[0;34m.\u001b[0m\u001b[0mzeros\u001b[0m\u001b[0;34m(\u001b[0m\u001b[0;36m1\u001b[0m\u001b[0;34m*\u001b[0m\u001b[0mself\u001b[0m\u001b[0;34m.\u001b[0m\u001b[0mn_layers\u001b[0m\u001b[0;34m,\u001b[0m\u001b[0mself\u001b[0m\u001b[0;34m.\u001b[0m\u001b[0mbatch_size\u001b[0m\u001b[0;34m,\u001b[0m\u001b[0mself\u001b[0m\u001b[0;34m.\u001b[0m\u001b[0mhidden_dim\u001b[0m\u001b[0;34m,\u001b[0m\u001b[0mdevice\u001b[0m\u001b[0;34m=\u001b[0m\u001b[0mself\u001b[0m\u001b[0;34m.\u001b[0m\u001b[0mdevice\u001b[0m\u001b[0;34m)\u001b[0m\u001b[0;34m,\u001b[0m\u001b[0mtorch\u001b[0m\u001b[0;34m.\u001b[0m\u001b[0mzeros\u001b[0m\u001b[0;34m(\u001b[0m\u001b[0;36m1\u001b[0m\u001b[0;34m*\u001b[0m\u001b[0mself\u001b[0m\u001b[0;34m.\u001b[0m\u001b[0mn_layers\u001b[0m\u001b[0;34m,\u001b[0m\u001b[0mself\u001b[0m\u001b[0;34m.\u001b[0m\u001b[0mbatch_size\u001b[0m\u001b[0;34m,\u001b[0m\u001b[0mself\u001b[0m\u001b[0;34m.\u001b[0m\u001b[0mhidden_dim\u001b[0m\u001b[0;34m,\u001b[0m\u001b[0mdevice\u001b[0m\u001b[0;34m=\u001b[0m\u001b[0mself\u001b[0m\u001b[0;34m.\u001b[0m\u001b[0mdevice\u001b[0m\u001b[0;34m)\u001b[0m\u001b[0;34m)\u001b[0m\u001b[0;34m\u001b[0m\u001b[0;34m\u001b[0m\u001b[0m\n\u001b[0;32m---> 19\u001b[0;31m       \u001b[0mout\u001b[0m\u001b[0;34m,\u001b[0m\u001b[0mself\u001b[0m\u001b[0;34m.\u001b[0m\u001b[0mhidden\u001b[0m \u001b[0;34m=\u001b[0m \u001b[0mself\u001b[0m\u001b[0;34m.\u001b[0m\u001b[0mlstm\u001b[0m\u001b[0;34m(\u001b[0m\u001b[0mx\u001b[0m\u001b[0;34m.\u001b[0m\u001b[0mview\u001b[0m\u001b[0;34m(\u001b[0m\u001b[0mlen\u001b[0m\u001b[0;34m(\u001b[0m\u001b[0mx\u001b[0m\u001b[0;34m[\u001b[0m\u001b[0;36m1\u001b[0m\u001b[0;34m]\u001b[0m\u001b[0;34m)\u001b[0m\u001b[0;34m,\u001b[0m\u001b[0mself\u001b[0m\u001b[0;34m.\u001b[0m\u001b[0mbatch_size\u001b[0m\u001b[0;34m,\u001b[0m\u001b[0;34m-\u001b[0m\u001b[0;36m1\u001b[0m\u001b[0;34m)\u001b[0m\u001b[0;34m,\u001b[0m\u001b[0mself\u001b[0m\u001b[0;34m.\u001b[0m\u001b[0mhidden\u001b[0m\u001b[0;34m)\u001b[0m\u001b[0;34m\u001b[0m\u001b[0;34m\u001b[0m\u001b[0m\n\u001b[0m\u001b[1;32m     20\u001b[0m       \u001b[0mpreds\u001b[0m \u001b[0;34m=\u001b[0m \u001b[0mself\u001b[0m\u001b[0;34m.\u001b[0m\u001b[0mout\u001b[0m\u001b[0;34m(\u001b[0m\u001b[0mout\u001b[0m\u001b[0;34m[\u001b[0m\u001b[0;34m-\u001b[0m\u001b[0;36m1\u001b[0m\u001b[0;34m]\u001b[0m\u001b[0;34m)\u001b[0m\u001b[0;34m\u001b[0m\u001b[0;34m\u001b[0m\u001b[0m\n\u001b[1;32m     21\u001b[0m       \u001b[0;32mreturn\u001b[0m \u001b[0mpreds\u001b[0m\u001b[0;34m[\u001b[0m\u001b[0;36m0\u001b[0m\u001b[0;34m]\u001b[0m\u001b[0;34m\u001b[0m\u001b[0;34m\u001b[0m\u001b[0m\n",
            "\u001b[0;31mRuntimeError\u001b[0m: shape '[1, 4, -1]' is invalid for input of size 10"
          ]
        }
      ]
    },
    {
      "cell_type": "code",
      "source": [
        "dataset.rawdata['Close'].iloc[-10:].to_numpy().reshape(1,-1).shape"
      ],
      "metadata": {
        "colab": {
          "base_uri": "https://localhost:8080/"
        },
        "id": "FeUQUKLbr4u-",
        "outputId": "1d07250c-9cb0-4345-8b28-a0697163580e"
      },
      "id": "FeUQUKLbr4u-",
      "execution_count": 29,
      "outputs": [
        {
          "output_type": "execute_result",
          "data": {
            "text/plain": [
              "(1, 10)"
            ]
          },
          "metadata": {},
          "execution_count": 29
        }
      ]
    },
    {
      "cell_type": "code",
      "source": [
        "ap = [x.reshape(1)[0] for x in actual]\n",
        "ap\n"
      ],
      "metadata": {
        "colab": {
          "base_uri": "https://localhost:8080/",
          "height": 183
        },
        "id": "SteFRv0GEF1o",
        "outputId": "8911dbd3-7d64-41e0-b7e9-a36e22197f03"
      },
      "id": "SteFRv0GEF1o",
      "execution_count": 30,
      "outputs": [
        {
          "output_type": "error",
          "ename": "NameError",
          "evalue": "ignored",
          "traceback": [
            "\u001b[0;31m---------------------------------------------------------------------------\u001b[0m",
            "\u001b[0;31mNameError\u001b[0m                                 Traceback (most recent call last)",
            "\u001b[0;32m<ipython-input-30-04eaf6cfa072>\u001b[0m in \u001b[0;36m<module>\u001b[0;34m\u001b[0m\n\u001b[0;32m----> 1\u001b[0;31m \u001b[0map\u001b[0m \u001b[0;34m=\u001b[0m \u001b[0;34m[\u001b[0m\u001b[0mx\u001b[0m\u001b[0;34m.\u001b[0m\u001b[0mreshape\u001b[0m\u001b[0;34m(\u001b[0m\u001b[0;36m1\u001b[0m\u001b[0;34m)\u001b[0m\u001b[0;34m[\u001b[0m\u001b[0;36m0\u001b[0m\u001b[0;34m]\u001b[0m \u001b[0;32mfor\u001b[0m \u001b[0mx\u001b[0m \u001b[0;32min\u001b[0m \u001b[0mactual\u001b[0m\u001b[0;34m]\u001b[0m\u001b[0;34m\u001b[0m\u001b[0;34m\u001b[0m\u001b[0m\n\u001b[0m\u001b[1;32m      2\u001b[0m \u001b[0map\u001b[0m\u001b[0;34m\u001b[0m\u001b[0;34m\u001b[0m\u001b[0m\n",
            "\u001b[0;31mNameError\u001b[0m: name 'actual' is not defined"
          ]
        }
      ]
    },
    {
      "cell_type": "code",
      "source": [
        "df = pd.read_csv('/content/timeseries/ULTRACEMCO.NS.csv')"
      ],
      "metadata": {
        "id": "HzuMXzfyFUNh"
      },
      "id": "HzuMXzfyFUNh",
      "execution_count": null,
      "outputs": []
    },
    {
      "cell_type": "code",
      "source": [
        "df2 = pd.DataFrame(pd.date_range('2022-11-17',periods=10).date)\n",
        "df2.columns = ['Date']\n",
        "df2['ap'] = ap"
      ],
      "metadata": {
        "id": "-E7lLYpkFc1g"
      },
      "id": "-E7lLYpkFc1g",
      "execution_count": null,
      "outputs": []
    },
    {
      "cell_type": "code",
      "source": [
        "df3 = pd.concat([df,df2],axis=0)"
      ],
      "metadata": {
        "id": "DZa8-w8pIZ-y"
      },
      "id": "DZa8-w8pIZ-y",
      "execution_count": null,
      "outputs": []
    },
    {
      "cell_type": "code",
      "source": [
        "df4 = df3[-30:]\n"
      ],
      "metadata": {
        "id": "SAX1oUf0JpuM"
      },
      "id": "SAX1oUf0JpuM",
      "execution_count": null,
      "outputs": []
    },
    {
      "cell_type": "code",
      "source": [
        "df4['Date'] = pd.to_datetime(df4['Date'])"
      ],
      "metadata": {
        "id": "KoJdUX2pVx8U"
      },
      "id": "KoJdUX2pVx8U",
      "execution_count": null,
      "outputs": []
    },
    {
      "cell_type": "code",
      "execution_count": null,
      "id": "e8efc599-eb9b-4652-8c06-2e50908202aa",
      "metadata": {
        "id": "e8efc599-eb9b-4652-8c06-2e50908202aa"
      },
      "outputs": [],
      "source": [
        "from matplotlib import pyplot as plt\n",
        "import seaborn as sns"
      ]
    },
    {
      "cell_type": "code",
      "source": [
        "sns.lineplot(x='Date',y='Close',data=df4)\n",
        "sns.lineplot(x='Date',y='ap',data=df4)\n",
        "plt.ylabel(\"Price\")\n",
        "plt.xticks(rotation = 20)\n",
        "plt.show()"
      ],
      "metadata": {
        "id": "CQOe4wV1_A8e"
      },
      "id": "CQOe4wV1_A8e",
      "execution_count": null,
      "outputs": []
    },
    {
      "cell_type": "code",
      "source": [
        "torch.cuda.empty_cache()"
      ],
      "metadata": {
        "id": "82JHwMwCRwBm"
      },
      "id": "82JHwMwCRwBm",
      "execution_count": null,
      "outputs": []
    },
    {
      "cell_type": "markdown",
      "source": [
        "# New Section"
      ],
      "metadata": {
        "id": "edFuUr03Sxue"
      },
      "id": "edFuUr03Sxue"
    },
    {
      "cell_type": "code",
      "source": [
        "dataset.rawdata['Close'].iloc[-6:]"
      ],
      "metadata": {
        "id": "ViTdSf6JaVXD"
      },
      "id": "ViTdSf6JaVXD",
      "execution_count": null,
      "outputs": []
    },
    {
      "cell_type": "code",
      "source": [
        "len(train_loader)"
      ],
      "metadata": {
        "id": "xbZKYAkfgZUH"
      },
      "id": "xbZKYAkfgZUH",
      "execution_count": null,
      "outputs": []
    },
    {
      "cell_type": "code",
      "source": [],
      "metadata": {
        "id": "IfhC12UmnkV2"
      },
      "id": "IfhC12UmnkV2",
      "execution_count": null,
      "outputs": []
    }
  ],
  "metadata": {
    "kernelspec": {
      "display_name": "Python 3 (ipykernel)",
      "language": "python",
      "name": "python3"
    },
    "language_info": {
      "codemirror_mode": {
        "name": "ipython",
        "version": 3
      },
      "file_extension": ".py",
      "mimetype": "text/x-python",
      "name": "python",
      "nbconvert_exporter": "python",
      "pygments_lexer": "ipython3",
      "version": "3.10.0"
    },
    "colab": {
      "provenance": []
    },
    "gpuClass": "standard",
    "accelerator": "GPU"
  },
  "nbformat": 4,
  "nbformat_minor": 5
}