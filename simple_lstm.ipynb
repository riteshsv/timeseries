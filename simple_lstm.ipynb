{
  "cells": [
    {
      "cell_type": "code",
      "execution_count": null,
      "id": "755fecfc-c576-4eec-9323-d69736d5bc9b",
      "metadata": {
        "id": "755fecfc-c576-4eec-9323-d69736d5bc9b"
      },
      "outputs": [],
      "source": [
        "import numpy as np"
      ]
    },
    {
      "cell_type": "code",
      "execution_count": null,
      "id": "74f07969-2fbd-43a5-b212-7f5fad592cbd",
      "metadata": {
        "id": "74f07969-2fbd-43a5-b212-7f5fad592cbd"
      },
      "outputs": [],
      "source": [
        "def preparedata_time_window(input_data,window):\n",
        "    out_data = []\n",
        "    # rearrange the input in form of output based on 3 observations in past\n",
        "    for i in range(len(input_data)):\n",
        "        if (i+window+1) <= len(input_data):\n",
        "            out_data.append((input_data[i:i+window],input_data[i+window:i+(window+1)]))\n",
        "            \n",
        "    return out_data"
      ]
    },
    {
      "cell_type": "code",
      "execution_count": null,
      "id": "f2d8d6f9-5f82-489d-a153-455a514e4ba2",
      "metadata": {
        "id": "f2d8d6f9-5f82-489d-a153-455a514e4ba2"
      },
      "outputs": [],
      "source": [
        "import pandas as pd"
      ]
    },
    {
      "cell_type": "code",
      "execution_count": null,
      "id": "4005c140-8a13-4ff8-8872-220f5081fc77",
      "metadata": {
        "id": "4005c140-8a13-4ff8-8872-220f5081fc77"
      },
      "outputs": [],
      "source": [
        "import torch\n",
        "from torch import nn     \n",
        "import torch.nn.functional as F\n",
        "import torch.optim as optim"
      ]
    },
    {
      "cell_type": "code",
      "execution_count": null,
      "id": "b3cf6614-4882-4b4d-a555-ab9efcdbb4c7",
      "metadata": {
        "id": "b3cf6614-4882-4b4d-a555-ab9efcdbb4c7"
      },
      "outputs": [],
      "source": [
        "# df = pd.read_csv('https://raw.githubusercontent.com/riteshsv/simplelstm/main/tsdata.csv')\n",
        "# df.columns=['sales']\n",
        "# df.head()"
      ]
    },
    {
      "cell_type": "code",
      "source": [
        "df = pd.read_csv('https://raw.githubusercontent.com/riteshsv/simplelstm/main/ULTRACEMCO.NS.csv')\n",
        "# df.columns=['sales']\n",
        "df.head()"
      ],
      "metadata": {
        "id": "AZImQOB5yuyk",
        "outputId": "5c5a3919-4d00-49b7-d892-83d4b9406a9c",
        "colab": {
          "base_uri": "https://localhost:8080/",
          "height": 206
        }
      },
      "id": "AZImQOB5yuyk",
      "execution_count": null,
      "outputs": [
        {
          "output_type": "execute_result",
          "data": {
            "text/plain": [
              "         Date    Open         High          Low        Close    Adj Close  \\\n",
              "0  2021-11-16  8120.0  8139.000000  7856.299805  7882.399902  7837.409180   \n",
              "1  2021-11-17  7845.0  7948.950195  7801.000000  7857.700195  7812.850586   \n",
              "2  2021-11-18  7899.0  7930.000000  7715.049805  7767.700195  7723.364258   \n",
              "3  2021-11-22  7799.0  7808.600098  7550.600098  7653.799805  7610.113770   \n",
              "4  2021-11-23  7620.0  7714.700195  7540.700195  7657.950195  7614.240723   \n",
              "\n",
              "   Volume  \n",
              "0  277983  \n",
              "1  183623  \n",
              "2  196805  \n",
              "3  383629  \n",
              "4  475377  "
            ],
            "text/html": [
              "\n",
              "  <div id=\"df-1279b55f-0864-472c-82ae-9f6e67bccfca\">\n",
              "    <div class=\"colab-df-container\">\n",
              "      <div>\n",
              "<style scoped>\n",
              "    .dataframe tbody tr th:only-of-type {\n",
              "        vertical-align: middle;\n",
              "    }\n",
              "\n",
              "    .dataframe tbody tr th {\n",
              "        vertical-align: top;\n",
              "    }\n",
              "\n",
              "    .dataframe thead th {\n",
              "        text-align: right;\n",
              "    }\n",
              "</style>\n",
              "<table border=\"1\" class=\"dataframe\">\n",
              "  <thead>\n",
              "    <tr style=\"text-align: right;\">\n",
              "      <th></th>\n",
              "      <th>Date</th>\n",
              "      <th>Open</th>\n",
              "      <th>High</th>\n",
              "      <th>Low</th>\n",
              "      <th>Close</th>\n",
              "      <th>Adj Close</th>\n",
              "      <th>Volume</th>\n",
              "    </tr>\n",
              "  </thead>\n",
              "  <tbody>\n",
              "    <tr>\n",
              "      <th>0</th>\n",
              "      <td>2021-11-16</td>\n",
              "      <td>8120.0</td>\n",
              "      <td>8139.000000</td>\n",
              "      <td>7856.299805</td>\n",
              "      <td>7882.399902</td>\n",
              "      <td>7837.409180</td>\n",
              "      <td>277983</td>\n",
              "    </tr>\n",
              "    <tr>\n",
              "      <th>1</th>\n",
              "      <td>2021-11-17</td>\n",
              "      <td>7845.0</td>\n",
              "      <td>7948.950195</td>\n",
              "      <td>7801.000000</td>\n",
              "      <td>7857.700195</td>\n",
              "      <td>7812.850586</td>\n",
              "      <td>183623</td>\n",
              "    </tr>\n",
              "    <tr>\n",
              "      <th>2</th>\n",
              "      <td>2021-11-18</td>\n",
              "      <td>7899.0</td>\n",
              "      <td>7930.000000</td>\n",
              "      <td>7715.049805</td>\n",
              "      <td>7767.700195</td>\n",
              "      <td>7723.364258</td>\n",
              "      <td>196805</td>\n",
              "    </tr>\n",
              "    <tr>\n",
              "      <th>3</th>\n",
              "      <td>2021-11-22</td>\n",
              "      <td>7799.0</td>\n",
              "      <td>7808.600098</td>\n",
              "      <td>7550.600098</td>\n",
              "      <td>7653.799805</td>\n",
              "      <td>7610.113770</td>\n",
              "      <td>383629</td>\n",
              "    </tr>\n",
              "    <tr>\n",
              "      <th>4</th>\n",
              "      <td>2021-11-23</td>\n",
              "      <td>7620.0</td>\n",
              "      <td>7714.700195</td>\n",
              "      <td>7540.700195</td>\n",
              "      <td>7657.950195</td>\n",
              "      <td>7614.240723</td>\n",
              "      <td>475377</td>\n",
              "    </tr>\n",
              "  </tbody>\n",
              "</table>\n",
              "</div>\n",
              "      <button class=\"colab-df-convert\" onclick=\"convertToInteractive('df-1279b55f-0864-472c-82ae-9f6e67bccfca')\"\n",
              "              title=\"Convert this dataframe to an interactive table.\"\n",
              "              style=\"display:none;\">\n",
              "        \n",
              "  <svg xmlns=\"http://www.w3.org/2000/svg\" height=\"24px\"viewBox=\"0 0 24 24\"\n",
              "       width=\"24px\">\n",
              "    <path d=\"M0 0h24v24H0V0z\" fill=\"none\"/>\n",
              "    <path d=\"M18.56 5.44l.94 2.06.94-2.06 2.06-.94-2.06-.94-.94-2.06-.94 2.06-2.06.94zm-11 1L8.5 8.5l.94-2.06 2.06-.94-2.06-.94L8.5 2.5l-.94 2.06-2.06.94zm10 10l.94 2.06.94-2.06 2.06-.94-2.06-.94-.94-2.06-.94 2.06-2.06.94z\"/><path d=\"M17.41 7.96l-1.37-1.37c-.4-.4-.92-.59-1.43-.59-.52 0-1.04.2-1.43.59L10.3 9.45l-7.72 7.72c-.78.78-.78 2.05 0 2.83L4 21.41c.39.39.9.59 1.41.59.51 0 1.02-.2 1.41-.59l7.78-7.78 2.81-2.81c.8-.78.8-2.07 0-2.86zM5.41 20L4 18.59l7.72-7.72 1.47 1.35L5.41 20z\"/>\n",
              "  </svg>\n",
              "      </button>\n",
              "      \n",
              "  <style>\n",
              "    .colab-df-container {\n",
              "      display:flex;\n",
              "      flex-wrap:wrap;\n",
              "      gap: 12px;\n",
              "    }\n",
              "\n",
              "    .colab-df-convert {\n",
              "      background-color: #E8F0FE;\n",
              "      border: none;\n",
              "      border-radius: 50%;\n",
              "      cursor: pointer;\n",
              "      display: none;\n",
              "      fill: #1967D2;\n",
              "      height: 32px;\n",
              "      padding: 0 0 0 0;\n",
              "      width: 32px;\n",
              "    }\n",
              "\n",
              "    .colab-df-convert:hover {\n",
              "      background-color: #E2EBFA;\n",
              "      box-shadow: 0px 1px 2px rgba(60, 64, 67, 0.3), 0px 1px 3px 1px rgba(60, 64, 67, 0.15);\n",
              "      fill: #174EA6;\n",
              "    }\n",
              "\n",
              "    [theme=dark] .colab-df-convert {\n",
              "      background-color: #3B4455;\n",
              "      fill: #D2E3FC;\n",
              "    }\n",
              "\n",
              "    [theme=dark] .colab-df-convert:hover {\n",
              "      background-color: #434B5C;\n",
              "      box-shadow: 0px 1px 3px 1px rgba(0, 0, 0, 0.15);\n",
              "      filter: drop-shadow(0px 1px 2px rgba(0, 0, 0, 0.3));\n",
              "      fill: #FFFFFF;\n",
              "    }\n",
              "  </style>\n",
              "\n",
              "      <script>\n",
              "        const buttonEl =\n",
              "          document.querySelector('#df-1279b55f-0864-472c-82ae-9f6e67bccfca button.colab-df-convert');\n",
              "        buttonEl.style.display =\n",
              "          google.colab.kernel.accessAllowed ? 'block' : 'none';\n",
              "\n",
              "        async function convertToInteractive(key) {\n",
              "          const element = document.querySelector('#df-1279b55f-0864-472c-82ae-9f6e67bccfca');\n",
              "          const dataTable =\n",
              "            await google.colab.kernel.invokeFunction('convertToInteractive',\n",
              "                                                     [key], {});\n",
              "          if (!dataTable) return;\n",
              "\n",
              "          const docLinkHtml = 'Like what you see? Visit the ' +\n",
              "            '<a target=\"_blank\" href=https://colab.research.google.com/notebooks/data_table.ipynb>data table notebook</a>'\n",
              "            + ' to learn more about interactive tables.';\n",
              "          element.innerHTML = '';\n",
              "          dataTable['output_type'] = 'display_data';\n",
              "          await google.colab.output.renderOutput(dataTable, element);\n",
              "          const docLink = document.createElement('div');\n",
              "          docLink.innerHTML = docLinkHtml;\n",
              "          element.appendChild(docLink);\n",
              "        }\n",
              "      </script>\n",
              "    </div>\n",
              "  </div>\n",
              "  "
            ]
          },
          "metadata": {},
          "execution_count": 26
        }
      ]
    },
    {
      "cell_type": "code",
      "source": [
        "df['Date'].min()"
      ],
      "metadata": {
        "id": "aUmFVjwlzAep",
        "outputId": "a1c117b1-4856-44d1-d0ad-8f1813ee003c",
        "colab": {
          "base_uri": "https://localhost:8080/",
          "height": 35
        }
      },
      "id": "aUmFVjwlzAep",
      "execution_count": null,
      "outputs": [
        {
          "output_type": "execute_result",
          "data": {
            "text/plain": [
              "'2021-11-16'"
            ],
            "application/vnd.google.colaboratory.intrinsic+json": {
              "type": "string"
            }
          },
          "metadata": {},
          "execution_count": 32
        }
      ]
    },
    {
      "cell_type": "code",
      "execution_count": null,
      "id": "6b62c6ca-fdbb-491d-8898-ab87ffe88541",
      "metadata": {
        "id": "6b62c6ca-fdbb-491d-8898-ab87ffe88541"
      },
      "outputs": [],
      "source": [
        "from sklearn.preprocessing import MinMaxScaler"
      ]
    },
    {
      "cell_type": "code",
      "execution_count": null,
      "id": "a29644c6-5bdf-471a-9565-d733f81a3e6f",
      "metadata": {
        "id": "a29644c6-5bdf-471a-9565-d733f81a3e6f"
      },
      "outputs": [],
      "source": [
        "data = df['Close'].values.astype(float)"
      ]
    },
    {
      "cell_type": "code",
      "execution_count": null,
      "id": "26a068af-6666-4199-9499-422e28413cae",
      "metadata": {
        "id": "26a068af-6666-4199-9499-422e28413cae",
        "outputId": "8b106185-e4cb-4a8b-e546-286fb8fe3292",
        "colab": {
          "base_uri": "https://localhost:8080/"
        }
      },
      "outputs": [
        {
          "output_type": "execute_result",
          "data": {
            "text/plain": [
              "array([6436.799805, 6445.850098, 6714.950195, 6820.899902, 6779.899902,\n",
              "       6728.25    , 6893.049805, 6973.5     , 6903.5     , 6801.299805,\n",
              "       6813.200195, 6854.399902, 6964.549805, 6938.350098])"
            ]
          },
          "metadata": {},
          "execution_count": 36
        }
      ],
      "source": [
        "data[-14:]"
      ]
    },
    {
      "cell_type": "code",
      "execution_count": null,
      "id": "5b9215ac-3ff5-4e70-924f-4c51514f0e3c",
      "metadata": {
        "id": "5b9215ac-3ff5-4e70-924f-4c51514f0e3c"
      },
      "outputs": [],
      "source": [
        "# X = np.array(X)\n",
        "# y = np.array(y)"
      ]
    },
    {
      "cell_type": "code",
      "execution_count": null,
      "id": "c2fc6113-b7c7-4cdc-95c7-e1acbcc7377a",
      "metadata": {
        "id": "c2fc6113-b7c7-4cdc-95c7-e1acbcc7377a"
      },
      "outputs": [],
      "source": [
        "# scaler = MinMaxScaler(feature_range=(-1,1))\n",
        "# scaled_input = scaler.fit_transform( np.array(input_data).reshape(-1,1))"
      ]
    },
    {
      "cell_type": "code",
      "execution_count": null,
      "id": "8f4a7568-a4de-43b2-826a-83dddb89b646",
      "metadata": {
        "id": "8f4a7568-a4de-43b2-826a-83dddb89b646"
      },
      "outputs": [],
      "source": [
        "# train_data = preparedata_time_window(torch.tensor(scaled_input,dtype=torch.float32).view(-1),3)"
      ]
    },
    {
      "cell_type": "code",
      "execution_count": null,
      "id": "d3c1ae80-0e25-4477-871d-0dd3a80c6f97",
      "metadata": {
        "id": "d3c1ae80-0e25-4477-871d-0dd3a80c6f97"
      },
      "outputs": [],
      "source": [
        "class LSTMSimple(nn.Module):\n",
        "    def __init__(self, input_dim,hidden_dim,out_size,num_layers=1,batch_size=1):\n",
        "        super(LSTMSimple,self).__init__()\n",
        "        self.batch_size = batch_size\n",
        "        self.lstm = nn.LSTM(input_dim, hidden_dim)\n",
        "        self.out = nn.Linear(hidden_dim,out_size)\n",
        "        self.hidden = (torch.zeros(1*num_layers,batch_size,hidden_dim),torch.zeros(1*num_layers,batch_size,hidden_dim))\n",
        "    def forward(self,x):\n",
        "        out,self.hidden = self.lstm(x.view(len(x),self.batch_size,-1),self.hidden)\n",
        "        preds = self.out(out.view(len(x),-1))\n",
        "        return preds[0]\n",
        "        "
      ]
    },
    {
      "cell_type": "code",
      "source": [
        "if torch.cuda.is_available():\n",
        "    device = torch.device('cuda')\n",
        "else:\n",
        "    device = torch.device('cpu')"
      ],
      "metadata": {
        "id": "vAbY37XExMlf"
      },
      "id": "vAbY37XExMlf",
      "execution_count": null,
      "outputs": []
    },
    {
      "cell_type": "code",
      "execution_count": null,
      "id": "142c5343-8ee7-4b79-bee6-2b0baa2b9a09",
      "metadata": {
        "id": "142c5343-8ee7-4b79-bee6-2b0baa2b9a09",
        "outputId": "d181f62b-eb4e-4b42-fe48-00bdcdb4a8f0",
        "colab": {
          "base_uri": "https://localhost:8080/"
        }
      },
      "outputs": [
        {
          "output_type": "execute_result",
          "data": {
            "text/plain": [
              "LSTMSimple(\n",
              "  (lstm): LSTM(1, 50)\n",
              "  (out): Linear(in_features=50, out_features=1, bias=True)\n",
              ")"
            ]
          },
          "metadata": {},
          "execution_count": 16
        }
      ],
      "source": [
        "model = LSTMSimple(1,50,1)\n",
        "model.to(device)"
      ]
    },
    {
      "cell_type": "code",
      "execution_count": null,
      "id": "c3da36b6-7009-4191-bc9c-db00c227987d",
      "metadata": {
        "id": "c3da36b6-7009-4191-bc9c-db00c227987d"
      },
      "outputs": [],
      "source": [
        "loss_fn = nn.MSELoss()\n",
        "optimizer = optim.SGD(model.parameters(),lr=1e-10)"
      ]
    },
    {
      "cell_type": "code",
      "execution_count": null,
      "id": "659ffe94-d00c-4ce5-a2cd-874614930a13",
      "metadata": {
        "id": "659ffe94-d00c-4ce5-a2cd-874614930a13"
      },
      "outputs": [],
      "source": [
        "def train(train_data):\n",
        "    for epoch in range(100):\n",
        "        for x,t in train_data:\n",
        "            model.zero_grad()\n",
        "            model.hidden = (torch.zeros(1,1,50,device=device),torch.zeros(1,1,50,device=device))\n",
        "\n",
        "            preds = model(x)\n",
        "            loss = loss_fn(preds,t)\n",
        "            loss.backward()\n",
        "            optimizer.step()\n",
        "        if epoch%25 == 0:\n",
        "            print(f\"epoch: {epoch} loss:{loss.item()}\")\n",
        "        \n",
        "\n",
        "        "
      ]
    },
    {
      "cell_type": "code",
      "execution_count": null,
      "id": "d1019051-4e51-4467-be8d-6866d8cc00fc",
      "metadata": {
        "id": "d1019051-4e51-4467-be8d-6866d8cc00fc"
      },
      "outputs": [],
      "source": [
        "scaler2 = MinMaxScaler(feature_range=(-1,1))\n",
        "scaled_input2 = scaler2.fit_transform(data.reshape(-1,1))\n",
        "train_data2 = preparedata_time_window(torch.tensor(scaled_input2,dtype=torch.float32,device=device).view(-1),14)"
      ]
    },
    {
      "cell_type": "code",
      "execution_count": null,
      "id": "deb871fd-c573-4434-9a87-f2470c3553a8",
      "metadata": {
        "id": "deb871fd-c573-4434-9a87-f2470c3553a8",
        "outputId": "e425281f-ed91-4806-e13a-bbe60fc6ebec",
        "colab": {
          "base_uri": "https://localhost:8080/"
        }
      },
      "outputs": [
        {
          "output_type": "stream",
          "name": "stdout",
          "text": [
            "epoch: 0 loss:0.09602939337491989\n",
            "epoch: 25 loss:0.09602939337491989\n",
            "epoch: 50 loss:0.09602939337491989\n",
            "epoch: 75 loss:0.09602939337491989\n"
          ]
        }
      ],
      "source": [
        "train(train_data2)"
      ]
    },
    {
      "cell_type": "code",
      "source": [
        "with torch.no_grad():\n",
        "  input_ten = torch.tensor(scaled_input2[-14:],dtype=torch.float32,device=device).view(-1)\n",
        "  model.hidden = (torch.zeros(1,1,50,device=device),torch.zeros(1,1,50,device=device))\n",
        "  preds = model(input_ten)\n",
        "  print(preds)\n",
        "  actual_pred = scaler2.inverse_transform(np.array(preds.view(-1).cpu()).reshape(-1,1))\n",
        "\n",
        "print(actual_pred)\n"
      ],
      "metadata": {
        "id": "hs1h3aNazWSR",
        "outputId": "d87fd79e-7717-4dd7-c39d-a28a983dbeaf",
        "colab": {
          "base_uri": "https://localhost:8080/"
        }
      },
      "id": "hs1h3aNazWSR",
      "execution_count": null,
      "outputs": [
        {
          "output_type": "stream",
          "name": "stdout",
          "text": [
            "tensor([-0.0080], device='cuda:0')\n",
            "[[6519.0356]]\n"
          ]
        }
      ]
    },
    {
      "cell_type": "code",
      "execution_count": 1,
      "id": "e8efc599-eb9b-4652-8c06-2e50908202aa",
      "metadata": {
        "id": "e8efc599-eb9b-4652-8c06-2e50908202aa"
      },
      "outputs": [],
      "source": [
        "from matplotlib import pyplot as plt"
      ]
    },
    {
      "cell_type": "code",
      "source": [
        "plt.title('Stock Price')\n",
        "plt.ylabel('Price')\n",
        "plt.grid(True)\n",
        "plt.autoscale(axis='x', tight=True)\n",
        "plt.plot(flight_data['passengers'])\n",
        "plt.plot(x,actual_predictions)\n",
        "plt.show()"
      ],
      "metadata": {
        "id": "CQOe4wV1_A8e"
      },
      "id": "CQOe4wV1_A8e",
      "execution_count": null,
      "outputs": []
    },
    {
      "cell_type": "code",
      "source": [
        "# !git clone https://github.com/riteshsv/simplelstm.git"
      ],
      "metadata": {
        "colab": {
          "base_uri": "https://localhost:8080/"
        },
        "id": "EQuty_6tRcOc",
        "outputId": "50596696-e714-46f2-92c2-1e8e1c9f8724"
      },
      "id": "EQuty_6tRcOc",
      "execution_count": 2,
      "outputs": [
        {
          "output_type": "stream",
          "name": "stdout",
          "text": [
            "Cloning into 'simplelstm'...\n",
            "remote: Enumerating objects: 10, done.\u001b[K\n",
            "remote: Counting objects: 100% (10/10), done.\u001b[K\n",
            "remote: Compressing objects: 100% (10/10), done.\u001b[K\n",
            "remote: Total 10 (delta 1), reused 3 (delta 0), pack-reused 0\u001b[K\n",
            "Unpacking objects: 100% (10/10), done.\n"
          ]
        }
      ]
    },
    {
      "cell_type": "code",
      "source": [],
      "metadata": {
        "id": "82JHwMwCRwBm"
      },
      "id": "82JHwMwCRwBm",
      "execution_count": null,
      "outputs": []
    },
    {
      "cell_type": "markdown",
      "source": [
        "# New Section"
      ],
      "metadata": {
        "id": "edFuUr03Sxue"
      },
      "id": "edFuUr03Sxue"
    }
  ],
  "metadata": {
    "kernelspec": {
      "display_name": "Python 3 (ipykernel)",
      "language": "python",
      "name": "python3"
    },
    "language_info": {
      "codemirror_mode": {
        "name": "ipython",
        "version": 3
      },
      "file_extension": ".py",
      "mimetype": "text/x-python",
      "name": "python",
      "nbconvert_exporter": "python",
      "pygments_lexer": "ipython3",
      "version": "3.10.0"
    },
    "colab": {
      "provenance": []
    },
    "accelerator": "GPU",
    "gpuClass": "standard"
  },
  "nbformat": 4,
  "nbformat_minor": 5
}